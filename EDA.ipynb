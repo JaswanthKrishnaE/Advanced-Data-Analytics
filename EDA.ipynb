{
 "cells": [
  {
   "cell_type": "code",
   "execution_count": 117,
   "metadata": {},
   "outputs": [],
   "source": [
    "import numpy as np\n",
    "import pandas as pd"
   ]
  },
  {
   "attachments": {},
   "cell_type": "markdown",
   "metadata": {},
   "source": [
    "data visualization"
   ]
  },
  {
   "cell_type": "code",
   "execution_count": 118,
   "metadata": {},
   "outputs": [],
   "source": [
    "import matplotlib.pyplot as plt\n",
    "import seaborn as sns"
   ]
  },
  {
   "attachments": {},
   "cell_type": "markdown",
   "metadata": {},
   "source": [
    "**Influential points** "
   ]
  },
  {
   "cell_type": "code",
   "execution_count": 119,
   "metadata": {},
   "outputs": [],
   "source": [
    "from scipy import stats"
   ]
  },
  {
   "attachments": {},
   "cell_type": "markdown",
   "metadata": {},
   "source": [
    "**Bartlett's sphericity test**"
   ]
  },
  {
   "cell_type": "code",
   "execution_count": 120,
   "metadata": {},
   "outputs": [],
   "source": [
    "from factor_analyzer import FactorAnalyzer\n",
    "from factor_analyzer.factor_analyzer import calculate_bartlett_sphericity"
   ]
  },
  {
   "attachments": {},
   "cell_type": "markdown",
   "metadata": {},
   "source": [
    "**PCA**"
   ]
  },
  {
   "cell_type": "code",
   "execution_count": 121,
   "metadata": {},
   "outputs": [],
   "source": [
    "from sklearn.decomposition import PCA\n",
    "from sklearn.preprocessing import StandardScaler"
   ]
  },
  {
   "attachments": {},
   "cell_type": "markdown",
   "metadata": {},
   "source": [
    "Testing and training data"
   ]
  },
  {
   "cell_type": "code",
   "execution_count": 122,
   "metadata": {},
   "outputs": [],
   "source": [
    "from sklearn.model_selection import train_test_split\n"
   ]
  },
  {
   "attachments": {},
   "cell_type": "markdown",
   "metadata": {},
   "source": [
    "Linear Regression"
   ]
  },
  {
   "cell_type": "code",
   "execution_count": 123,
   "metadata": {},
   "outputs": [],
   "source": [
    "from sklearn.linear_model import LinearRegression\n"
   ]
  },
  {
   "attachments": {},
   "cell_type": "markdown",
   "metadata": {},
   "source": [
    "OLS"
   ]
  },
  {
   "cell_type": "code",
   "execution_count": 124,
   "metadata": {},
   "outputs": [],
   "source": [
    "import statsmodels.api as sm"
   ]
  },
  {
   "attachments": {},
   "cell_type": "markdown",
   "metadata": {},
   "source": [
    "weights = weights of stockpicking concept\n",
    "' Large B/P ', ' Large ROE ', ' Large S/P ',' Large Return Rate in the last quarter ', ' Large Market Value ',' Small systematic Risk'\n",
    "outputs = The normalized investment performance indicator \n",
    "'Annual Return.1', 'Excess Return.1','Systematic Risk.1', 'Total Risk.1', 'Abs. Win Rate.1','Rel. Win Rate.1'"
   ]
  },
  {
   "cell_type": "code",
   "execution_count": 125,
   "metadata": {},
   "outputs": [],
   "source": [
    "csvFile = \"stock portfolio performance data set.xlsx\""
   ]
  },
  {
   "cell_type": "code",
   "execution_count": 126,
   "metadata": {},
   "outputs": [],
   "source": [
    "df = pd.read_excel(csvFile,\"all period\",skiprows=[0],usecols = [1,2,3,4,5,6,13,14,15,16,17,18])"
   ]
  },
  {
   "cell_type": "code",
   "execution_count": 127,
   "metadata": {},
   "outputs": [
    {
     "data": {
      "text/html": [
       "<div>\n",
       "<style scoped>\n",
       "    .dataframe tbody tr th:only-of-type {\n",
       "        vertical-align: middle;\n",
       "    }\n",
       "\n",
       "    .dataframe tbody tr th {\n",
       "        vertical-align: top;\n",
       "    }\n",
       "\n",
       "    .dataframe thead th {\n",
       "        text-align: right;\n",
       "    }\n",
       "</style>\n",
       "<table border=\"1\" class=\"dataframe\">\n",
       "  <thead>\n",
       "    <tr style=\"text-align: right;\">\n",
       "      <th></th>\n",
       "      <th>Large B/P</th>\n",
       "      <th>Large ROE</th>\n",
       "      <th>Large S/P</th>\n",
       "      <th>Large Return Rate in the last quarter</th>\n",
       "      <th>Large Market Value</th>\n",
       "      <th>Small systematic Risk</th>\n",
       "      <th>Annual Return.1</th>\n",
       "      <th>Excess Return.1</th>\n",
       "      <th>Systematic Risk.1</th>\n",
       "      <th>Total Risk.1</th>\n",
       "      <th>Abs. Win Rate.1</th>\n",
       "      <th>Rel. Win Rate.1</th>\n",
       "    </tr>\n",
       "  </thead>\n",
       "  <tbody>\n",
       "    <tr>\n",
       "      <th>0</th>\n",
       "      <td>1.0</td>\n",
       "      <td>0.0</td>\n",
       "      <td>0.0</td>\n",
       "      <td>0.0</td>\n",
       "      <td>0.0</td>\n",
       "      <td>0.0</td>\n",
       "      <td>0.531875</td>\n",
       "      <td>0.478116</td>\n",
       "      <td>0.738015</td>\n",
       "      <td>0.800000</td>\n",
       "      <td>0.52</td>\n",
       "      <td>0.411765</td>\n",
       "    </tr>\n",
       "    <tr>\n",
       "      <th>1</th>\n",
       "      <td>0.0</td>\n",
       "      <td>1.0</td>\n",
       "      <td>0.0</td>\n",
       "      <td>0.0</td>\n",
       "      <td>0.0</td>\n",
       "      <td>0.0</td>\n",
       "      <td>0.549712</td>\n",
       "      <td>0.487595</td>\n",
       "      <td>0.571579</td>\n",
       "      <td>0.412231</td>\n",
       "      <td>0.52</td>\n",
       "      <td>0.764706</td>\n",
       "    </tr>\n",
       "    <tr>\n",
       "      <th>2</th>\n",
       "      <td>0.0</td>\n",
       "      <td>0.0</td>\n",
       "      <td>1.0</td>\n",
       "      <td>0.0</td>\n",
       "      <td>0.0</td>\n",
       "      <td>0.0</td>\n",
       "      <td>0.692625</td>\n",
       "      <td>0.629895</td>\n",
       "      <td>0.703051</td>\n",
       "      <td>0.756879</td>\n",
       "      <td>0.44</td>\n",
       "      <td>0.376471</td>\n",
       "    </tr>\n",
       "    <tr>\n",
       "      <th>3</th>\n",
       "      <td>0.0</td>\n",
       "      <td>0.0</td>\n",
       "      <td>0.0</td>\n",
       "      <td>1.0</td>\n",
       "      <td>0.0</td>\n",
       "      <td>0.0</td>\n",
       "      <td>0.324351</td>\n",
       "      <td>0.255634</td>\n",
       "      <td>0.800000</td>\n",
       "      <td>0.756046</td>\n",
       "      <td>0.36</td>\n",
       "      <td>0.270588</td>\n",
       "    </tr>\n",
       "    <tr>\n",
       "      <th>4</th>\n",
       "      <td>0.0</td>\n",
       "      <td>0.0</td>\n",
       "      <td>0.0</td>\n",
       "      <td>0.0</td>\n",
       "      <td>1.0</td>\n",
       "      <td>0.0</td>\n",
       "      <td>0.326615</td>\n",
       "      <td>0.306501</td>\n",
       "      <td>0.432452</td>\n",
       "      <td>0.209289</td>\n",
       "      <td>0.72</td>\n",
       "      <td>0.447059</td>\n",
       "    </tr>\n",
       "  </tbody>\n",
       "</table>\n",
       "</div>"
      ],
      "text/plain": [
       "    Large B/P    Large ROE    Large S/P   \\\n",
       "0          1.0          0.0          0.0   \n",
       "1          0.0          1.0          0.0   \n",
       "2          0.0          0.0          1.0   \n",
       "3          0.0          0.0          0.0   \n",
       "4          0.0          0.0          0.0   \n",
       "\n",
       "    Large Return Rate in the last quarter    Large Market Value   \\\n",
       "0                                      0.0                   0.0   \n",
       "1                                      0.0                   0.0   \n",
       "2                                      0.0                   0.0   \n",
       "3                                      1.0                   0.0   \n",
       "4                                      0.0                   1.0   \n",
       "\n",
       "    Small systematic Risk  Annual Return.1  Excess Return.1  \\\n",
       "0                     0.0         0.531875         0.478116   \n",
       "1                     0.0         0.549712         0.487595   \n",
       "2                     0.0         0.692625         0.629895   \n",
       "3                     0.0         0.324351         0.255634   \n",
       "4                     0.0         0.326615         0.306501   \n",
       "\n",
       "   Systematic Risk.1  Total Risk.1  Abs. Win Rate.1  Rel. Win Rate.1  \n",
       "0           0.738015      0.800000             0.52         0.411765  \n",
       "1           0.571579      0.412231             0.52         0.764706  \n",
       "2           0.703051      0.756879             0.44         0.376471  \n",
       "3           0.800000      0.756046             0.36         0.270588  \n",
       "4           0.432452      0.209289             0.72         0.447059  "
      ]
     },
     "execution_count": 127,
     "metadata": {},
     "output_type": "execute_result"
    }
   ],
   "source": [
    "df.head()"
   ]
  },
  {
   "cell_type": "code",
   "execution_count": 128,
   "metadata": {},
   "outputs": [
    {
     "data": {
      "text/plain": [
       "Index([' Large B/P ', ' Large ROE ', ' Large S/P ',\n",
       "       ' Large Return Rate in the last quarter ', ' Large Market Value ',\n",
       "       ' Small systematic Risk', 'Annual Return.1', 'Excess Return.1',\n",
       "       'Systematic Risk.1', 'Total Risk.1', 'Abs. Win Rate.1',\n",
       "       'Rel. Win Rate.1'],\n",
       "      dtype='object')"
      ]
     },
     "execution_count": 128,
     "metadata": {},
     "output_type": "execute_result"
    }
   ],
   "source": [
    "df.columns"
   ]
  },
  {
   "cell_type": "code",
   "execution_count": 129,
   "metadata": {},
   "outputs": [
    {
     "name": "stdout",
     "output_type": "stream",
     "text": [
      "Index([' Large B/P ', ' Large ROE ', ' Large S/P ',\n",
      "       ' Large Return Rate in the last quarter ', ' Large Market Value ',\n",
      "       ' Small systematic Risk'],\n",
      "      dtype='object')\n"
     ]
    }
   ],
   "source": [
    "weights = df.columns[:6]\n",
    "print(weights)"
   ]
  },
  {
   "cell_type": "code",
   "execution_count": 130,
   "metadata": {},
   "outputs": [
    {
     "name": "stdout",
     "output_type": "stream",
     "text": [
      "Index(['Annual Return.1', 'Excess Return.1', 'Systematic Risk.1',\n",
      "       'Total Risk.1', 'Abs. Win Rate.1', 'Rel. Win Rate.1'],\n",
      "      dtype='object')\n"
     ]
    }
   ],
   "source": [
    "outputs = df.columns[-6:]\n",
    "print(outputs)"
   ]
  },
  {
   "attachments": {},
   "cell_type": "markdown",
   "metadata": {},
   "source": [
    "Outputs"
   ]
  },
  {
   "cell_type": "code",
   "execution_count": 131,
   "metadata": {},
   "outputs": [
    {
     "data": {
      "image/png": "[encoded data removed]",
      "text/plain": [
       "<Figure size 640x480 with 1 Axes>"
      ]
     },
     "metadata": {},
     "output_type": "display_data"
    }
   ],
   "source": [
    "plt.boxplot(df.iloc[:,:6])\n",
    "plt.show()"
   ]
  },
  {
   "attachments": {},
   "cell_type": "markdown",
   "metadata": {},
   "source": [
    "weigths"
   ]
  },
  {
   "cell_type": "code",
   "execution_count": 132,
   "metadata": {},
   "outputs": [
    {
     "data": {
      "image/png": "[encoded data removed]",
      "text/plain": [
       "<Figure size 640x480 with 1 Axes>"
      ]
     },
     "metadata": {},
     "output_type": "display_data"
    }
   ],
   "source": [
    "plt.boxplot(df.iloc[:,7:])\n",
    "plt.show()"
   ]
  },
  {
   "attachments": {},
   "cell_type": "markdown",
   "metadata": {},
   "source": [
    "Removing influential points\n",
    "\n"
   ]
  },
  {
   "cell_type": "code",
   "execution_count": 133,
   "metadata": {},
   "outputs": [
    {
     "data": {
      "text/plain": [
       "(63, 12)"
      ]
     },
     "execution_count": 133,
     "metadata": {},
     "output_type": "execute_result"
    }
   ],
   "source": [
    "df.shape"
   ]
  },
  {
   "attachments": {},
   "cell_type": "markdown",
   "metadata": {},
   "source": [
    "**Menthod1** : Z Score"
   ]
  },
  {
   "cell_type": "code",
   "execution_count": 134,
   "metadata": {},
   "outputs": [
    {
     "data": {
      "text/plain": [
       "(57, 12)"
      ]
     },
     "execution_count": 134,
     "metadata": {},
     "output_type": "execute_result"
    }
   ],
   "source": [
    "z_scores = np.abs(stats.zscore(df))\n",
    "threshold = 3\n",
    "df_clean = df[(z_scores < threshold).all(axis=1)]\n",
    "df_clean.shape\n"
   ]
  },
  {
   "cell_type": "code",
   "execution_count": 135,
   "metadata": {},
   "outputs": [
    {
     "data": {
      "text/html": [
       "<div>\n",
       "<style scoped>\n",
       "    .dataframe tbody tr th:only-of-type {\n",
       "        vertical-align: middle;\n",
       "    }\n",
       "\n",
       "    .dataframe tbody tr th {\n",
       "        vertical-align: top;\n",
       "    }\n",
       "\n",
       "    .dataframe thead th {\n",
       "        text-align: right;\n",
       "    }\n",
       "</style>\n",
       "<table border=\"1\" class=\"dataframe\">\n",
       "  <thead>\n",
       "    <tr style=\"text-align: right;\">\n",
       "      <th></th>\n",
       "      <th>Large B/P</th>\n",
       "      <th>Large ROE</th>\n",
       "      <th>Large S/P</th>\n",
       "      <th>Large Return Rate in the last quarter</th>\n",
       "      <th>Large Market Value</th>\n",
       "      <th>Small systematic Risk</th>\n",
       "      <th>Annual Return.1</th>\n",
       "      <th>Excess Return.1</th>\n",
       "      <th>Systematic Risk.1</th>\n",
       "      <th>Total Risk.1</th>\n",
       "      <th>Abs. Win Rate.1</th>\n",
       "      <th>Rel. Win Rate.1</th>\n",
       "    </tr>\n",
       "  </thead>\n",
       "  <tbody>\n",
       "    <tr>\n",
       "      <th>0</th>\n",
       "      <td>1.0</td>\n",
       "      <td>0.0</td>\n",
       "      <td>0.0</td>\n",
       "      <td>0.0</td>\n",
       "      <td>0.0</td>\n",
       "      <td>0.0</td>\n",
       "      <td>0.531875</td>\n",
       "      <td>0.478116</td>\n",
       "      <td>0.738015</td>\n",
       "      <td>0.800000</td>\n",
       "      <td>0.52</td>\n",
       "      <td>0.411765</td>\n",
       "    </tr>\n",
       "    <tr>\n",
       "      <th>1</th>\n",
       "      <td>0.0</td>\n",
       "      <td>1.0</td>\n",
       "      <td>0.0</td>\n",
       "      <td>0.0</td>\n",
       "      <td>0.0</td>\n",
       "      <td>0.0</td>\n",
       "      <td>0.549712</td>\n",
       "      <td>0.487595</td>\n",
       "      <td>0.571579</td>\n",
       "      <td>0.412231</td>\n",
       "      <td>0.52</td>\n",
       "      <td>0.764706</td>\n",
       "    </tr>\n",
       "    <tr>\n",
       "      <th>2</th>\n",
       "      <td>0.0</td>\n",
       "      <td>0.0</td>\n",
       "      <td>1.0</td>\n",
       "      <td>0.0</td>\n",
       "      <td>0.0</td>\n",
       "      <td>0.0</td>\n",
       "      <td>0.692625</td>\n",
       "      <td>0.629895</td>\n",
       "      <td>0.703051</td>\n",
       "      <td>0.756879</td>\n",
       "      <td>0.44</td>\n",
       "      <td>0.376471</td>\n",
       "    </tr>\n",
       "    <tr>\n",
       "      <th>3</th>\n",
       "      <td>0.0</td>\n",
       "      <td>0.0</td>\n",
       "      <td>0.0</td>\n",
       "      <td>1.0</td>\n",
       "      <td>0.0</td>\n",
       "      <td>0.0</td>\n",
       "      <td>0.324351</td>\n",
       "      <td>0.255634</td>\n",
       "      <td>0.800000</td>\n",
       "      <td>0.756046</td>\n",
       "      <td>0.36</td>\n",
       "      <td>0.270588</td>\n",
       "    </tr>\n",
       "    <tr>\n",
       "      <th>4</th>\n",
       "      <td>0.0</td>\n",
       "      <td>0.0</td>\n",
       "      <td>0.0</td>\n",
       "      <td>0.0</td>\n",
       "      <td>1.0</td>\n",
       "      <td>0.0</td>\n",
       "      <td>0.326615</td>\n",
       "      <td>0.306501</td>\n",
       "      <td>0.432452</td>\n",
       "      <td>0.209289</td>\n",
       "      <td>0.72</td>\n",
       "      <td>0.447059</td>\n",
       "    </tr>\n",
       "    <tr>\n",
       "      <th>5</th>\n",
       "      <td>0.0</td>\n",
       "      <td>0.0</td>\n",
       "      <td>0.0</td>\n",
       "      <td>0.0</td>\n",
       "      <td>0.0</td>\n",
       "      <td>1.0</td>\n",
       "      <td>0.200000</td>\n",
       "      <td>0.200000</td>\n",
       "      <td>0.490882</td>\n",
       "      <td>0.429063</td>\n",
       "      <td>0.20</td>\n",
       "      <td>0.235294</td>\n",
       "    </tr>\n",
       "  </tbody>\n",
       "</table>\n",
       "</div>"
      ],
      "text/plain": [
       "    Large B/P    Large ROE    Large S/P   \\\n",
       "0          1.0          0.0          0.0   \n",
       "1          0.0          1.0          0.0   \n",
       "2          0.0          0.0          1.0   \n",
       "3          0.0          0.0          0.0   \n",
       "4          0.0          0.0          0.0   \n",
       "5          0.0          0.0          0.0   \n",
       "\n",
       "    Large Return Rate in the last quarter    Large Market Value   \\\n",
       "0                                      0.0                   0.0   \n",
       "1                                      0.0                   0.0   \n",
       "2                                      0.0                   0.0   \n",
       "3                                      1.0                   0.0   \n",
       "4                                      0.0                   1.0   \n",
       "5                                      0.0                   0.0   \n",
       "\n",
       "    Small systematic Risk  Annual Return.1  Excess Return.1  \\\n",
       "0                     0.0         0.531875         0.478116   \n",
       "1                     0.0         0.549712         0.487595   \n",
       "2                     0.0         0.692625         0.629895   \n",
       "3                     0.0         0.324351         0.255634   \n",
       "4                     0.0         0.326615         0.306501   \n",
       "5                     1.0         0.200000         0.200000   \n",
       "\n",
       "   Systematic Risk.1  Total Risk.1  Abs. Win Rate.1  Rel. Win Rate.1  \n",
       "0           0.738015      0.800000             0.52         0.411765  \n",
       "1           0.571579      0.412231             0.52         0.764706  \n",
       "2           0.703051      0.756879             0.44         0.376471  \n",
       "3           0.800000      0.756046             0.36         0.270588  \n",
       "4           0.432452      0.209289             0.72         0.447059  \n",
       "5           0.490882      0.429063             0.20         0.235294  "
      ]
     },
     "execution_count": 135,
     "metadata": {},
     "output_type": "execute_result"
    }
   ],
   "source": [
    "df[~(z_scores < threshold).all(axis=1)]"
   ]
  },
  {
   "cell_type": "code",
   "execution_count": 136,
   "metadata": {},
   "outputs": [
    {
     "data": {
      "image/png": "[encoded data removed]",
      "text/plain": [
       "<Figure size 640x480 with 1 Axes>"
      ]
     },
     "metadata": {},
     "output_type": "display_data"
    }
   ],
   "source": [
    "plt.boxplot(df_clean)\n",
    "plt.show()"
   ]
  },
  {
   "attachments": {},
   "cell_type": "markdown",
   "metadata": {},
   "source": [
    "**Method 2** : IQR"
   ]
  },
  {
   "cell_type": "code",
   "execution_count": 137,
   "metadata": {},
   "outputs": [
    {
     "data": {
      "text/plain": [
       "(54, 12)"
      ]
     },
     "execution_count": 137,
     "metadata": {},
     "output_type": "execute_result"
    }
   ],
   "source": [
    "Q1 = df.quantile(0.25)\n",
    "Q3 = df.quantile(0.75)\n",
    "IQR = Q3 - Q1\n",
    "df_clean = df[~((df < (Q1 - 1.5 * IQR)) |(df > (Q3 + 1.5 * IQR))).any(axis=1)]\n",
    "df_clean.shape\n"
   ]
  },
  {
   "cell_type": "code",
   "execution_count": 138,
   "metadata": {},
   "outputs": [
    {
     "data": {
      "text/html": [
       "<div>\n",
       "<style scoped>\n",
       "    .dataframe tbody tr th:only-of-type {\n",
       "        vertical-align: middle;\n",
       "    }\n",
       "\n",
       "    .dataframe tbody tr th {\n",
       "        vertical-align: top;\n",
       "    }\n",
       "\n",
       "    .dataframe thead th {\n",
       "        text-align: right;\n",
       "    }\n",
       "</style>\n",
       "<table border=\"1\" class=\"dataframe\">\n",
       "  <thead>\n",
       "    <tr style=\"text-align: right;\">\n",
       "      <th></th>\n",
       "      <th>Large B/P</th>\n",
       "      <th>Large ROE</th>\n",
       "      <th>Large S/P</th>\n",
       "      <th>Large Return Rate in the last quarter</th>\n",
       "      <th>Large Market Value</th>\n",
       "      <th>Small systematic Risk</th>\n",
       "      <th>Annual Return.1</th>\n",
       "      <th>Excess Return.1</th>\n",
       "      <th>Systematic Risk.1</th>\n",
       "      <th>Total Risk.1</th>\n",
       "      <th>Abs. Win Rate.1</th>\n",
       "      <th>Rel. Win Rate.1</th>\n",
       "    </tr>\n",
       "  </thead>\n",
       "  <tbody>\n",
       "    <tr>\n",
       "      <th>0</th>\n",
       "      <td>1.0</td>\n",
       "      <td>0.0</td>\n",
       "      <td>0.0</td>\n",
       "      <td>0.000</td>\n",
       "      <td>0.000</td>\n",
       "      <td>0.000</td>\n",
       "      <td>0.531875</td>\n",
       "      <td>0.478116</td>\n",
       "      <td>0.738015</td>\n",
       "      <td>0.800000</td>\n",
       "      <td>0.52</td>\n",
       "      <td>0.411765</td>\n",
       "    </tr>\n",
       "    <tr>\n",
       "      <th>1</th>\n",
       "      <td>0.0</td>\n",
       "      <td>1.0</td>\n",
       "      <td>0.0</td>\n",
       "      <td>0.000</td>\n",
       "      <td>0.000</td>\n",
       "      <td>0.000</td>\n",
       "      <td>0.549712</td>\n",
       "      <td>0.487595</td>\n",
       "      <td>0.571579</td>\n",
       "      <td>0.412231</td>\n",
       "      <td>0.52</td>\n",
       "      <td>0.764706</td>\n",
       "    </tr>\n",
       "    <tr>\n",
       "      <th>2</th>\n",
       "      <td>0.0</td>\n",
       "      <td>0.0</td>\n",
       "      <td>1.0</td>\n",
       "      <td>0.000</td>\n",
       "      <td>0.000</td>\n",
       "      <td>0.000</td>\n",
       "      <td>0.692625</td>\n",
       "      <td>0.629895</td>\n",
       "      <td>0.703051</td>\n",
       "      <td>0.756879</td>\n",
       "      <td>0.44</td>\n",
       "      <td>0.376471</td>\n",
       "    </tr>\n",
       "    <tr>\n",
       "      <th>3</th>\n",
       "      <td>0.0</td>\n",
       "      <td>0.0</td>\n",
       "      <td>0.0</td>\n",
       "      <td>1.000</td>\n",
       "      <td>0.000</td>\n",
       "      <td>0.000</td>\n",
       "      <td>0.324351</td>\n",
       "      <td>0.255634</td>\n",
       "      <td>0.800000</td>\n",
       "      <td>0.756046</td>\n",
       "      <td>0.36</td>\n",
       "      <td>0.270588</td>\n",
       "    </tr>\n",
       "    <tr>\n",
       "      <th>4</th>\n",
       "      <td>0.0</td>\n",
       "      <td>0.0</td>\n",
       "      <td>0.0</td>\n",
       "      <td>0.000</td>\n",
       "      <td>1.000</td>\n",
       "      <td>0.000</td>\n",
       "      <td>0.326615</td>\n",
       "      <td>0.306501</td>\n",
       "      <td>0.432452</td>\n",
       "      <td>0.209289</td>\n",
       "      <td>0.72</td>\n",
       "      <td>0.447059</td>\n",
       "    </tr>\n",
       "    <tr>\n",
       "      <th>5</th>\n",
       "      <td>0.0</td>\n",
       "      <td>0.0</td>\n",
       "      <td>0.0</td>\n",
       "      <td>0.000</td>\n",
       "      <td>0.000</td>\n",
       "      <td>1.000</td>\n",
       "      <td>0.200000</td>\n",
       "      <td>0.200000</td>\n",
       "      <td>0.490882</td>\n",
       "      <td>0.429063</td>\n",
       "      <td>0.20</td>\n",
       "      <td>0.235294</td>\n",
       "    </tr>\n",
       "    <tr>\n",
       "      <th>7</th>\n",
       "      <td>0.5</td>\n",
       "      <td>0.0</td>\n",
       "      <td>0.5</td>\n",
       "      <td>0.000</td>\n",
       "      <td>0.000</td>\n",
       "      <td>0.000</td>\n",
       "      <td>0.652186</td>\n",
       "      <td>0.594190</td>\n",
       "      <td>0.723655</td>\n",
       "      <td>0.797195</td>\n",
       "      <td>0.48</td>\n",
       "      <td>0.376471</td>\n",
       "    </tr>\n",
       "    <tr>\n",
       "      <th>15</th>\n",
       "      <td>0.0</td>\n",
       "      <td>0.0</td>\n",
       "      <td>0.0</td>\n",
       "      <td>0.500</td>\n",
       "      <td>0.500</td>\n",
       "      <td>0.000</td>\n",
       "      <td>0.298276</td>\n",
       "      <td>0.265715</td>\n",
       "      <td>0.549684</td>\n",
       "      <td>0.415240</td>\n",
       "      <td>0.52</td>\n",
       "      <td>0.341176</td>\n",
       "    </tr>\n",
       "    <tr>\n",
       "      <th>40</th>\n",
       "      <td>0.0</td>\n",
       "      <td>0.0</td>\n",
       "      <td>0.0</td>\n",
       "      <td>0.333</td>\n",
       "      <td>0.333</td>\n",
       "      <td>0.333</td>\n",
       "      <td>0.295124</td>\n",
       "      <td>0.281303</td>\n",
       "      <td>0.524910</td>\n",
       "      <td>0.458258</td>\n",
       "      <td>0.28</td>\n",
       "      <td>0.200000</td>\n",
       "    </tr>\n",
       "  </tbody>\n",
       "</table>\n",
       "</div>"
      ],
      "text/plain": [
       "     Large B/P    Large ROE    Large S/P   \\\n",
       "0           1.0          0.0          0.0   \n",
       "1           0.0          1.0          0.0   \n",
       "2           0.0          0.0          1.0   \n",
       "3           0.0          0.0          0.0   \n",
       "4           0.0          0.0          0.0   \n",
       "5           0.0          0.0          0.0   \n",
       "7           0.5          0.0          0.5   \n",
       "15          0.0          0.0          0.0   \n",
       "40          0.0          0.0          0.0   \n",
       "\n",
       "     Large Return Rate in the last quarter    Large Market Value   \\\n",
       "0                                     0.000                 0.000   \n",
       "1                                     0.000                 0.000   \n",
       "2                                     0.000                 0.000   \n",
       "3                                     1.000                 0.000   \n",
       "4                                     0.000                 1.000   \n",
       "5                                     0.000                 0.000   \n",
       "7                                     0.000                 0.000   \n",
       "15                                    0.500                 0.500   \n",
       "40                                    0.333                 0.333   \n",
       "\n",
       "     Small systematic Risk  Annual Return.1  Excess Return.1  \\\n",
       "0                    0.000         0.531875         0.478116   \n",
       "1                    0.000         0.549712         0.487595   \n",
       "2                    0.000         0.692625         0.629895   \n",
       "3                    0.000         0.324351         0.255634   \n",
       "4                    0.000         0.326615         0.306501   \n",
       "5                    1.000         0.200000         0.200000   \n",
       "7                    0.000         0.652186         0.594190   \n",
       "15                   0.000         0.298276         0.265715   \n",
       "40                   0.333         0.295124         0.281303   \n",
       "\n",
       "    Systematic Risk.1  Total Risk.1  Abs. Win Rate.1  Rel. Win Rate.1  \n",
       "0            0.738015      0.800000             0.52         0.411765  \n",
       "1            0.571579      0.412231             0.52         0.764706  \n",
       "2            0.703051      0.756879             0.44         0.376471  \n",
       "3            0.800000      0.756046             0.36         0.270588  \n",
       "4            0.432452      0.209289             0.72         0.447059  \n",
       "5            0.490882      0.429063             0.20         0.235294  \n",
       "7            0.723655      0.797195             0.48         0.376471  \n",
       "15           0.549684      0.415240             0.52         0.341176  \n",
       "40           0.524910      0.458258             0.28         0.200000  "
      ]
     },
     "execution_count": 138,
     "metadata": {},
     "output_type": "execute_result"
    }
   ],
   "source": [
    "df[((df < (Q1 - 1.5 * IQR)) |(df > (Q3 + 1.5 * IQR))).any(axis=1)]"
   ]
  },
  {
   "attachments": {},
   "cell_type": "markdown",
   "metadata": {},
   "source": [
    "After removal of outlyers"
   ]
  },
  {
   "cell_type": "code",
   "execution_count": 139,
   "metadata": {},
   "outputs": [
    {
     "data": {
      "image/png": "[encoded data removed]",
      "text/plain": [
       "<Figure size 640x480 with 1 Axes>"
      ]
     },
     "metadata": {},
     "output_type": "display_data"
    }
   ],
   "source": [
    "plt.boxplot(df_clean)\n",
    "plt.show()"
   ]
  },
  {
   "cell_type": "code",
   "execution_count": 140,
   "metadata": {},
   "outputs": [],
   "source": [
    "df_clean = df"
   ]
  },
  {
   "cell_type": "code",
   "execution_count": 141,
   "metadata": {},
   "outputs": [],
   "source": [
    "weight_df = df_clean.iloc[:,:6].copy()\n",
    "outputs_df = df_clean.iloc[:,7:].copy()"
   ]
  },
  {
   "attachments": {},
   "cell_type": "markdown",
   "metadata": {},
   "source": [
    "comparision of dataset before and after removing influential points"
   ]
  },
  {
   "cell_type": "code",
   "execution_count": 142,
   "metadata": {},
   "outputs": [
    {
     "data": {
      "text/plain": [
       "(63, 12)"
      ]
     },
     "execution_count": 142,
     "metadata": {},
     "output_type": "execute_result"
    }
   ],
   "source": [
    "df.shape"
   ]
  },
  {
   "cell_type": "code",
   "execution_count": 143,
   "metadata": {},
   "outputs": [
    {
     "data": {
      "text/html": [
       "<div>\n",
       "<style scoped>\n",
       "    .dataframe tbody tr th:only-of-type {\n",
       "        vertical-align: middle;\n",
       "    }\n",
       "\n",
       "    .dataframe tbody tr th {\n",
       "        vertical-align: top;\n",
       "    }\n",
       "\n",
       "    .dataframe thead th {\n",
       "        text-align: right;\n",
       "    }\n",
       "</style>\n",
       "<table border=\"1\" class=\"dataframe\">\n",
       "  <thead>\n",
       "    <tr style=\"text-align: right;\">\n",
       "      <th></th>\n",
       "      <th>Large B/P</th>\n",
       "      <th>Large ROE</th>\n",
       "      <th>Large S/P</th>\n",
       "      <th>Large Return Rate in the last quarter</th>\n",
       "      <th>Large Market Value</th>\n",
       "      <th>Small systematic Risk</th>\n",
       "      <th>Annual Return.1</th>\n",
       "      <th>Excess Return.1</th>\n",
       "      <th>Systematic Risk.1</th>\n",
       "      <th>Total Risk.1</th>\n",
       "      <th>Abs. Win Rate.1</th>\n",
       "      <th>Rel. Win Rate.1</th>\n",
       "    </tr>\n",
       "  </thead>\n",
       "  <tbody>\n",
       "    <tr>\n",
       "      <th>count</th>\n",
       "      <td>63.000000</td>\n",
       "      <td>63.000000</td>\n",
       "      <td>63.000000</td>\n",
       "      <td>63.000000</td>\n",
       "      <td>63.000000</td>\n",
       "      <td>63.000000</td>\n",
       "      <td>63.000000</td>\n",
       "      <td>63.000000</td>\n",
       "      <td>63.000000</td>\n",
       "      <td>63.000000</td>\n",
       "      <td>63.000000</td>\n",
       "      <td>63.000000</td>\n",
       "    </tr>\n",
       "    <tr>\n",
       "      <th>mean</th>\n",
       "      <td>0.166619</td>\n",
       "      <td>0.166619</td>\n",
       "      <td>0.166619</td>\n",
       "      <td>0.166619</td>\n",
       "      <td>0.166619</td>\n",
       "      <td>0.166619</td>\n",
       "      <td>0.580151</td>\n",
       "      <td>0.576170</td>\n",
       "      <td>0.426494</td>\n",
       "      <td>0.391749</td>\n",
       "      <td>0.566984</td>\n",
       "      <td>0.547899</td>\n",
       "    </tr>\n",
       "    <tr>\n",
       "      <th>std</th>\n",
       "      <td>0.199304</td>\n",
       "      <td>0.199304</td>\n",
       "      <td>0.199304</td>\n",
       "      <td>0.199304</td>\n",
       "      <td>0.199304</td>\n",
       "      <td>0.199304</td>\n",
       "      <td>0.133358</td>\n",
       "      <td>0.137047</td>\n",
       "      <td>0.118178</td>\n",
       "      <td>0.136653</td>\n",
       "      <td>0.112803</td>\n",
       "      <td>0.159468</td>\n",
       "    </tr>\n",
       "    <tr>\n",
       "      <th>min</th>\n",
       "      <td>0.000000</td>\n",
       "      <td>0.000000</td>\n",
       "      <td>0.000000</td>\n",
       "      <td>0.000000</td>\n",
       "      <td>0.000000</td>\n",
       "      <td>0.000000</td>\n",
       "      <td>0.200000</td>\n",
       "      <td>0.200000</td>\n",
       "      <td>0.200000</td>\n",
       "      <td>0.200000</td>\n",
       "      <td>0.200000</td>\n",
       "      <td>0.200000</td>\n",
       "    </tr>\n",
       "    <tr>\n",
       "      <th>25%</th>\n",
       "      <td>0.000000</td>\n",
       "      <td>0.000000</td>\n",
       "      <td>0.000000</td>\n",
       "      <td>0.000000</td>\n",
       "      <td>0.000000</td>\n",
       "      <td>0.000000</td>\n",
       "      <td>0.525811</td>\n",
       "      <td>0.519093</td>\n",
       "      <td>0.358600</td>\n",
       "      <td>0.297324</td>\n",
       "      <td>0.520000</td>\n",
       "      <td>0.411765</td>\n",
       "    </tr>\n",
       "    <tr>\n",
       "      <th>50%</th>\n",
       "      <td>0.167000</td>\n",
       "      <td>0.167000</td>\n",
       "      <td>0.167000</td>\n",
       "      <td>0.167000</td>\n",
       "      <td>0.167000</td>\n",
       "      <td>0.167000</td>\n",
       "      <td>0.598516</td>\n",
       "      <td>0.587148</td>\n",
       "      <td>0.403418</td>\n",
       "      <td>0.368958</td>\n",
       "      <td>0.560000</td>\n",
       "      <td>0.552941</td>\n",
       "    </tr>\n",
       "    <tr>\n",
       "      <th>75%</th>\n",
       "      <td>0.291500</td>\n",
       "      <td>0.291500</td>\n",
       "      <td>0.291500</td>\n",
       "      <td>0.291500</td>\n",
       "      <td>0.291500</td>\n",
       "      <td>0.291500</td>\n",
       "      <td>0.679636</td>\n",
       "      <td>0.669294</td>\n",
       "      <td>0.470571</td>\n",
       "      <td>0.457749</td>\n",
       "      <td>0.640000</td>\n",
       "      <td>0.694118</td>\n",
       "    </tr>\n",
       "    <tr>\n",
       "      <th>max</th>\n",
       "      <td>1.000000</td>\n",
       "      <td>1.000000</td>\n",
       "      <td>1.000000</td>\n",
       "      <td>1.000000</td>\n",
       "      <td>1.000000</td>\n",
       "      <td>1.000000</td>\n",
       "      <td>0.800000</td>\n",
       "      <td>0.800000</td>\n",
       "      <td>0.800000</td>\n",
       "      <td>0.800000</td>\n",
       "      <td>0.800000</td>\n",
       "      <td>0.800000</td>\n",
       "    </tr>\n",
       "  </tbody>\n",
       "</table>\n",
       "</div>"
      ],
      "text/plain": [
       "        Large B/P    Large ROE    Large S/P   \\\n",
       "count    63.000000    63.000000    63.000000   \n",
       "mean      0.166619     0.166619     0.166619   \n",
       "std       0.199304     0.199304     0.199304   \n",
       "min       0.000000     0.000000     0.000000   \n",
       "25%       0.000000     0.000000     0.000000   \n",
       "50%       0.167000     0.167000     0.167000   \n",
       "75%       0.291500     0.291500     0.291500   \n",
       "max       1.000000     1.000000     1.000000   \n",
       "\n",
       "        Large Return Rate in the last quarter    Large Market Value   \\\n",
       "count                                63.000000             63.000000   \n",
       "mean                                  0.166619              0.166619   \n",
       "std                                   0.199304              0.199304   \n",
       "min                                   0.000000              0.000000   \n",
       "25%                                   0.000000              0.000000   \n",
       "50%                                   0.167000              0.167000   \n",
       "75%                                   0.291500              0.291500   \n",
       "max                                   1.000000              1.000000   \n",
       "\n",
       "        Small systematic Risk  Annual Return.1  Excess Return.1  \\\n",
       "count               63.000000        63.000000        63.000000   \n",
       "mean                 0.166619         0.580151         0.576170   \n",
       "std                  0.199304         0.133358         0.137047   \n",
       "min                  0.000000         0.200000         0.200000   \n",
       "25%                  0.000000         0.525811         0.519093   \n",
       "50%                  0.167000         0.598516         0.587148   \n",
       "75%                  0.291500         0.679636         0.669294   \n",
       "max                  1.000000         0.800000         0.800000   \n",
       "\n",
       "       Systematic Risk.1  Total Risk.1  Abs. Win Rate.1  Rel. Win Rate.1  \n",
       "count          63.000000     63.000000        63.000000        63.000000  \n",
       "mean            0.426494      0.391749         0.566984         0.547899  \n",
       "std             0.118178      0.136653         0.112803         0.159468  \n",
       "min             0.200000      0.200000         0.200000         0.200000  \n",
       "25%             0.358600      0.297324         0.520000         0.411765  \n",
       "50%             0.403418      0.368958         0.560000         0.552941  \n",
       "75%             0.470571      0.457749         0.640000         0.694118  \n",
       "max             0.800000      0.800000         0.800000         0.800000  "
      ]
     },
     "execution_count": 143,
     "metadata": {},
     "output_type": "execute_result"
    }
   ],
   "source": [
    "df.describe()"
   ]
  },
  {
   "cell_type": "code",
   "execution_count": 144,
   "metadata": {},
   "outputs": [
    {
     "data": {
      "text/html": [
       "<div>\n",
       "<style scoped>\n",
       "    .dataframe tbody tr th:only-of-type {\n",
       "        vertical-align: middle;\n",
       "    }\n",
       "\n",
       "    .dataframe tbody tr th {\n",
       "        vertical-align: top;\n",
       "    }\n",
       "\n",
       "    .dataframe thead th {\n",
       "        text-align: right;\n",
       "    }\n",
       "</style>\n",
       "<table border=\"1\" class=\"dataframe\">\n",
       "  <thead>\n",
       "    <tr style=\"text-align: right;\">\n",
       "      <th></th>\n",
       "      <th>Large B/P</th>\n",
       "      <th>Large ROE</th>\n",
       "      <th>Large S/P</th>\n",
       "      <th>Large Return Rate in the last quarter</th>\n",
       "      <th>Large Market Value</th>\n",
       "      <th>Small systematic Risk</th>\n",
       "      <th>Annual Return.1</th>\n",
       "      <th>Excess Return.1</th>\n",
       "      <th>Systematic Risk.1</th>\n",
       "      <th>Total Risk.1</th>\n",
       "      <th>Abs. Win Rate.1</th>\n",
       "      <th>Rel. Win Rate.1</th>\n",
       "    </tr>\n",
       "  </thead>\n",
       "  <tbody>\n",
       "    <tr>\n",
       "      <th>count</th>\n",
       "      <td>63.000000</td>\n",
       "      <td>63.000000</td>\n",
       "      <td>63.000000</td>\n",
       "      <td>63.000000</td>\n",
       "      <td>63.000000</td>\n",
       "      <td>63.000000</td>\n",
       "      <td>63.000000</td>\n",
       "      <td>63.000000</td>\n",
       "      <td>63.000000</td>\n",
       "      <td>63.000000</td>\n",
       "      <td>63.000000</td>\n",
       "      <td>63.000000</td>\n",
       "    </tr>\n",
       "    <tr>\n",
       "      <th>mean</th>\n",
       "      <td>0.166619</td>\n",
       "      <td>0.166619</td>\n",
       "      <td>0.166619</td>\n",
       "      <td>0.166619</td>\n",
       "      <td>0.166619</td>\n",
       "      <td>0.166619</td>\n",
       "      <td>0.580151</td>\n",
       "      <td>0.576170</td>\n",
       "      <td>0.426494</td>\n",
       "      <td>0.391749</td>\n",
       "      <td>0.566984</td>\n",
       "      <td>0.547899</td>\n",
       "    </tr>\n",
       "    <tr>\n",
       "      <th>std</th>\n",
       "      <td>0.199304</td>\n",
       "      <td>0.199304</td>\n",
       "      <td>0.199304</td>\n",
       "      <td>0.199304</td>\n",
       "      <td>0.199304</td>\n",
       "      <td>0.199304</td>\n",
       "      <td>0.133358</td>\n",
       "      <td>0.137047</td>\n",
       "      <td>0.118178</td>\n",
       "      <td>0.136653</td>\n",
       "      <td>0.112803</td>\n",
       "      <td>0.159468</td>\n",
       "    </tr>\n",
       "    <tr>\n",
       "      <th>min</th>\n",
       "      <td>0.000000</td>\n",
       "      <td>0.000000</td>\n",
       "      <td>0.000000</td>\n",
       "      <td>0.000000</td>\n",
       "      <td>0.000000</td>\n",
       "      <td>0.000000</td>\n",
       "      <td>0.200000</td>\n",
       "      <td>0.200000</td>\n",
       "      <td>0.200000</td>\n",
       "      <td>0.200000</td>\n",
       "      <td>0.200000</td>\n",
       "      <td>0.200000</td>\n",
       "    </tr>\n",
       "    <tr>\n",
       "      <th>25%</th>\n",
       "      <td>0.000000</td>\n",
       "      <td>0.000000</td>\n",
       "      <td>0.000000</td>\n",
       "      <td>0.000000</td>\n",
       "      <td>0.000000</td>\n",
       "      <td>0.000000</td>\n",
       "      <td>0.525811</td>\n",
       "      <td>0.519093</td>\n",
       "      <td>0.358600</td>\n",
       "      <td>0.297324</td>\n",
       "      <td>0.520000</td>\n",
       "      <td>0.411765</td>\n",
       "    </tr>\n",
       "    <tr>\n",
       "      <th>50%</th>\n",
       "      <td>0.167000</td>\n",
       "      <td>0.167000</td>\n",
       "      <td>0.167000</td>\n",
       "      <td>0.167000</td>\n",
       "      <td>0.167000</td>\n",
       "      <td>0.167000</td>\n",
       "      <td>0.598516</td>\n",
       "      <td>0.587148</td>\n",
       "      <td>0.403418</td>\n",
       "      <td>0.368958</td>\n",
       "      <td>0.560000</td>\n",
       "      <td>0.552941</td>\n",
       "    </tr>\n",
       "    <tr>\n",
       "      <th>75%</th>\n",
       "      <td>0.291500</td>\n",
       "      <td>0.291500</td>\n",
       "      <td>0.291500</td>\n",
       "      <td>0.291500</td>\n",
       "      <td>0.291500</td>\n",
       "      <td>0.291500</td>\n",
       "      <td>0.679636</td>\n",
       "      <td>0.669294</td>\n",
       "      <td>0.470571</td>\n",
       "      <td>0.457749</td>\n",
       "      <td>0.640000</td>\n",
       "      <td>0.694118</td>\n",
       "    </tr>\n",
       "    <tr>\n",
       "      <th>max</th>\n",
       "      <td>1.000000</td>\n",
       "      <td>1.000000</td>\n",
       "      <td>1.000000</td>\n",
       "      <td>1.000000</td>\n",
       "      <td>1.000000</td>\n",
       "      <td>1.000000</td>\n",
       "      <td>0.800000</td>\n",
       "      <td>0.800000</td>\n",
       "      <td>0.800000</td>\n",
       "      <td>0.800000</td>\n",
       "      <td>0.800000</td>\n",
       "      <td>0.800000</td>\n",
       "    </tr>\n",
       "  </tbody>\n",
       "</table>\n",
       "</div>"
      ],
      "text/plain": [
       "        Large B/P    Large ROE    Large S/P   \\\n",
       "count    63.000000    63.000000    63.000000   \n",
       "mean      0.166619     0.166619     0.166619   \n",
       "std       0.199304     0.199304     0.199304   \n",
       "min       0.000000     0.000000     0.000000   \n",
       "25%       0.000000     0.000000     0.000000   \n",
       "50%       0.167000     0.167000     0.167000   \n",
       "75%       0.291500     0.291500     0.291500   \n",
       "max       1.000000     1.000000     1.000000   \n",
       "\n",
       "        Large Return Rate in the last quarter    Large Market Value   \\\n",
       "count                                63.000000             63.000000   \n",
       "mean                                  0.166619              0.166619   \n",
       "std                                   0.199304              0.199304   \n",
       "min                                   0.000000              0.000000   \n",
       "25%                                   0.000000              0.000000   \n",
       "50%                                   0.167000              0.167000   \n",
       "75%                                   0.291500              0.291500   \n",
       "max                                   1.000000              1.000000   \n",
       "\n",
       "        Small systematic Risk  Annual Return.1  Excess Return.1  \\\n",
       "count               63.000000        63.000000        63.000000   \n",
       "mean                 0.166619         0.580151         0.576170   \n",
       "std                  0.199304         0.133358         0.137047   \n",
       "min                  0.000000         0.200000         0.200000   \n",
       "25%                  0.000000         0.525811         0.519093   \n",
       "50%                  0.167000         0.598516         0.587148   \n",
       "75%                  0.291500         0.679636         0.669294   \n",
       "max                  1.000000         0.800000         0.800000   \n",
       "\n",
       "       Systematic Risk.1  Total Risk.1  Abs. Win Rate.1  Rel. Win Rate.1  \n",
       "count          63.000000     63.000000        63.000000        63.000000  \n",
       "mean            0.426494      0.391749         0.566984         0.547899  \n",
       "std             0.118178      0.136653         0.112803         0.159468  \n",
       "min             0.200000      0.200000         0.200000         0.200000  \n",
       "25%             0.358600      0.297324         0.520000         0.411765  \n",
       "50%             0.403418      0.368958         0.560000         0.552941  \n",
       "75%             0.470571      0.457749         0.640000         0.694118  \n",
       "max             0.800000      0.800000         0.800000         0.800000  "
      ]
     },
     "execution_count": 144,
     "metadata": {},
     "output_type": "execute_result"
    }
   ],
   "source": [
    "df_clean.describe()"
   ]
  },
  {
   "cell_type": "code",
   "execution_count": 145,
   "metadata": {},
   "outputs": [
    {
     "data": {
      "text/html": [
       "<div>\n",
       "<style scoped>\n",
       "    .dataframe tbody tr th:only-of-type {\n",
       "        vertical-align: middle;\n",
       "    }\n",
       "\n",
       "    .dataframe tbody tr th {\n",
       "        vertical-align: top;\n",
       "    }\n",
       "\n",
       "    .dataframe thead th {\n",
       "        text-align: right;\n",
       "    }\n",
       "</style>\n",
       "<table border=\"1\" class=\"dataframe\">\n",
       "  <thead>\n",
       "    <tr style=\"text-align: right;\">\n",
       "      <th></th>\n",
       "      <th>Large B/P</th>\n",
       "      <th>Large ROE</th>\n",
       "      <th>Large S/P</th>\n",
       "      <th>Large Return Rate in the last quarter</th>\n",
       "      <th>Large Market Value</th>\n",
       "      <th>Small systematic Risk</th>\n",
       "      <th>Annual Return.1</th>\n",
       "      <th>Excess Return.1</th>\n",
       "      <th>Systematic Risk.1</th>\n",
       "      <th>Total Risk.1</th>\n",
       "      <th>Abs. Win Rate.1</th>\n",
       "      <th>Rel. Win Rate.1</th>\n",
       "    </tr>\n",
       "  </thead>\n",
       "  <tbody>\n",
       "    <tr>\n",
       "      <th>count</th>\n",
       "      <td>63.000000</td>\n",
       "      <td>63.000000</td>\n",
       "      <td>63.000000</td>\n",
       "      <td>63.000000</td>\n",
       "      <td>63.000000</td>\n",
       "      <td>63.000000</td>\n",
       "      <td>63.000000</td>\n",
       "      <td>63.000000</td>\n",
       "      <td>63.000000</td>\n",
       "      <td>63.000000</td>\n",
       "      <td>63.000000</td>\n",
       "      <td>63.000000</td>\n",
       "    </tr>\n",
       "    <tr>\n",
       "      <th>mean</th>\n",
       "      <td>0.166619</td>\n",
       "      <td>0.166619</td>\n",
       "      <td>0.166619</td>\n",
       "      <td>0.166619</td>\n",
       "      <td>0.166619</td>\n",
       "      <td>0.166619</td>\n",
       "      <td>0.580151</td>\n",
       "      <td>0.576170</td>\n",
       "      <td>0.426494</td>\n",
       "      <td>0.391749</td>\n",
       "      <td>0.566984</td>\n",
       "      <td>0.547899</td>\n",
       "    </tr>\n",
       "    <tr>\n",
       "      <th>std</th>\n",
       "      <td>0.199304</td>\n",
       "      <td>0.199304</td>\n",
       "      <td>0.199304</td>\n",
       "      <td>0.199304</td>\n",
       "      <td>0.199304</td>\n",
       "      <td>0.199304</td>\n",
       "      <td>0.133358</td>\n",
       "      <td>0.137047</td>\n",
       "      <td>0.118178</td>\n",
       "      <td>0.136653</td>\n",
       "      <td>0.112803</td>\n",
       "      <td>0.159468</td>\n",
       "    </tr>\n",
       "    <tr>\n",
       "      <th>min</th>\n",
       "      <td>0.000000</td>\n",
       "      <td>0.000000</td>\n",
       "      <td>0.000000</td>\n",
       "      <td>0.000000</td>\n",
       "      <td>0.000000</td>\n",
       "      <td>0.000000</td>\n",
       "      <td>0.200000</td>\n",
       "      <td>0.200000</td>\n",
       "      <td>0.200000</td>\n",
       "      <td>0.200000</td>\n",
       "      <td>0.200000</td>\n",
       "      <td>0.200000</td>\n",
       "    </tr>\n",
       "    <tr>\n",
       "      <th>25%</th>\n",
       "      <td>0.000000</td>\n",
       "      <td>0.000000</td>\n",
       "      <td>0.000000</td>\n",
       "      <td>0.000000</td>\n",
       "      <td>0.000000</td>\n",
       "      <td>0.000000</td>\n",
       "      <td>0.525811</td>\n",
       "      <td>0.519093</td>\n",
       "      <td>0.358600</td>\n",
       "      <td>0.297324</td>\n",
       "      <td>0.520000</td>\n",
       "      <td>0.411765</td>\n",
       "    </tr>\n",
       "    <tr>\n",
       "      <th>50%</th>\n",
       "      <td>0.167000</td>\n",
       "      <td>0.167000</td>\n",
       "      <td>0.167000</td>\n",
       "      <td>0.167000</td>\n",
       "      <td>0.167000</td>\n",
       "      <td>0.167000</td>\n",
       "      <td>0.598516</td>\n",
       "      <td>0.587148</td>\n",
       "      <td>0.403418</td>\n",
       "      <td>0.368958</td>\n",
       "      <td>0.560000</td>\n",
       "      <td>0.552941</td>\n",
       "    </tr>\n",
       "    <tr>\n",
       "      <th>75%</th>\n",
       "      <td>0.291500</td>\n",
       "      <td>0.291500</td>\n",
       "      <td>0.291500</td>\n",
       "      <td>0.291500</td>\n",
       "      <td>0.291500</td>\n",
       "      <td>0.291500</td>\n",
       "      <td>0.679636</td>\n",
       "      <td>0.669294</td>\n",
       "      <td>0.470571</td>\n",
       "      <td>0.457749</td>\n",
       "      <td>0.640000</td>\n",
       "      <td>0.694118</td>\n",
       "    </tr>\n",
       "    <tr>\n",
       "      <th>max</th>\n",
       "      <td>1.000000</td>\n",
       "      <td>1.000000</td>\n",
       "      <td>1.000000</td>\n",
       "      <td>1.000000</td>\n",
       "      <td>1.000000</td>\n",
       "      <td>1.000000</td>\n",
       "      <td>0.800000</td>\n",
       "      <td>0.800000</td>\n",
       "      <td>0.800000</td>\n",
       "      <td>0.800000</td>\n",
       "      <td>0.800000</td>\n",
       "      <td>0.800000</td>\n",
       "    </tr>\n",
       "  </tbody>\n",
       "</table>\n",
       "</div>"
      ],
      "text/plain": [
       "        Large B/P    Large ROE    Large S/P   \\\n",
       "count    63.000000    63.000000    63.000000   \n",
       "mean      0.166619     0.166619     0.166619   \n",
       "std       0.199304     0.199304     0.199304   \n",
       "min       0.000000     0.000000     0.000000   \n",
       "25%       0.000000     0.000000     0.000000   \n",
       "50%       0.167000     0.167000     0.167000   \n",
       "75%       0.291500     0.291500     0.291500   \n",
       "max       1.000000     1.000000     1.000000   \n",
       "\n",
       "        Large Return Rate in the last quarter    Large Market Value   \\\n",
       "count                                63.000000             63.000000   \n",
       "mean                                  0.166619              0.166619   \n",
       "std                                   0.199304              0.199304   \n",
       "min                                   0.000000              0.000000   \n",
       "25%                                   0.000000              0.000000   \n",
       "50%                                   0.167000              0.167000   \n",
       "75%                                   0.291500              0.291500   \n",
       "max                                   1.000000              1.000000   \n",
       "\n",
       "        Small systematic Risk  Annual Return.1  Excess Return.1  \\\n",
       "count               63.000000        63.000000        63.000000   \n",
       "mean                 0.166619         0.580151         0.576170   \n",
       "std                  0.199304         0.133358         0.137047   \n",
       "min                  0.000000         0.200000         0.200000   \n",
       "25%                  0.000000         0.525811         0.519093   \n",
       "50%                  0.167000         0.598516         0.587148   \n",
       "75%                  0.291500         0.679636         0.669294   \n",
       "max                  1.000000         0.800000         0.800000   \n",
       "\n",
       "       Systematic Risk.1  Total Risk.1  Abs. Win Rate.1  Rel. Win Rate.1  \n",
       "count          63.000000     63.000000        63.000000        63.000000  \n",
       "mean            0.426494      0.391749         0.566984         0.547899  \n",
       "std             0.118178      0.136653         0.112803         0.159468  \n",
       "min             0.200000      0.200000         0.200000         0.200000  \n",
       "25%             0.358600      0.297324         0.520000         0.411765  \n",
       "50%             0.403418      0.368958         0.560000         0.552941  \n",
       "75%             0.470571      0.457749         0.640000         0.694118  \n",
       "max             0.800000      0.800000         0.800000         0.800000  "
      ]
     },
     "execution_count": 145,
     "metadata": {},
     "output_type": "execute_result"
    }
   ],
   "source": [
    "df_clean.describe()"
   ]
  },
  {
   "attachments": {},
   "cell_type": "markdown",
   "metadata": {},
   "source": [
    "Corelation matrix"
   ]
  },
  {
   "cell_type": "code",
   "execution_count": 146,
   "metadata": {},
   "outputs": [
    {
     "data": {
      "text/html": [
       "<div>\n",
       "<style scoped>\n",
       "    .dataframe tbody tr th:only-of-type {\n",
       "        vertical-align: middle;\n",
       "    }\n",
       "\n",
       "    .dataframe tbody tr th {\n",
       "        vertical-align: top;\n",
       "    }\n",
       "\n",
       "    .dataframe thead th {\n",
       "        text-align: right;\n",
       "    }\n",
       "</style>\n",
       "<table border=\"1\" class=\"dataframe\">\n",
       "  <thead>\n",
       "    <tr style=\"text-align: right;\">\n",
       "      <th></th>\n",
       "      <th>Large B/P</th>\n",
       "      <th>Large ROE</th>\n",
       "      <th>Large S/P</th>\n",
       "      <th>Large Return Rate in the last quarter</th>\n",
       "      <th>Large Market Value</th>\n",
       "      <th>Small systematic Risk</th>\n",
       "    </tr>\n",
       "  </thead>\n",
       "  <tbody>\n",
       "    <tr>\n",
       "      <th>Large B/P</th>\n",
       "      <td>1.0</td>\n",
       "      <td>-0.2</td>\n",
       "      <td>-0.2</td>\n",
       "      <td>-0.2</td>\n",
       "      <td>-0.2</td>\n",
       "      <td>-0.2</td>\n",
       "    </tr>\n",
       "    <tr>\n",
       "      <th>Large ROE</th>\n",
       "      <td>-0.2</td>\n",
       "      <td>1.0</td>\n",
       "      <td>-0.2</td>\n",
       "      <td>-0.2</td>\n",
       "      <td>-0.2</td>\n",
       "      <td>-0.2</td>\n",
       "    </tr>\n",
       "    <tr>\n",
       "      <th>Large S/P</th>\n",
       "      <td>-0.2</td>\n",
       "      <td>-0.2</td>\n",
       "      <td>1.0</td>\n",
       "      <td>-0.2</td>\n",
       "      <td>-0.2</td>\n",
       "      <td>-0.2</td>\n",
       "    </tr>\n",
       "    <tr>\n",
       "      <th>Large Return Rate in the last quarter</th>\n",
       "      <td>-0.2</td>\n",
       "      <td>-0.2</td>\n",
       "      <td>-0.2</td>\n",
       "      <td>1.0</td>\n",
       "      <td>-0.2</td>\n",
       "      <td>-0.2</td>\n",
       "    </tr>\n",
       "    <tr>\n",
       "      <th>Large Market Value</th>\n",
       "      <td>-0.2</td>\n",
       "      <td>-0.2</td>\n",
       "      <td>-0.2</td>\n",
       "      <td>-0.2</td>\n",
       "      <td>1.0</td>\n",
       "      <td>-0.2</td>\n",
       "    </tr>\n",
       "    <tr>\n",
       "      <th>Small systematic Risk</th>\n",
       "      <td>-0.2</td>\n",
       "      <td>-0.2</td>\n",
       "      <td>-0.2</td>\n",
       "      <td>-0.2</td>\n",
       "      <td>-0.2</td>\n",
       "      <td>1.0</td>\n",
       "    </tr>\n",
       "  </tbody>\n",
       "</table>\n",
       "</div>"
      ],
      "text/plain": [
       "                                          Large B/P    Large ROE   \\\n",
       " Large B/P                                       1.0         -0.2   \n",
       " Large ROE                                      -0.2          1.0   \n",
       " Large S/P                                      -0.2         -0.2   \n",
       " Large Return Rate in the last quarter          -0.2         -0.2   \n",
       " Large Market Value                             -0.2         -0.2   \n",
       " Small systematic Risk                          -0.2         -0.2   \n",
       "\n",
       "                                          Large S/P   \\\n",
       " Large B/P                                      -0.2   \n",
       " Large ROE                                      -0.2   \n",
       " Large S/P                                       1.0   \n",
       " Large Return Rate in the last quarter          -0.2   \n",
       " Large Market Value                             -0.2   \n",
       " Small systematic Risk                          -0.2   \n",
       "\n",
       "                                          Large Return Rate in the last quarter   \\\n",
       " Large B/P                                                                  -0.2   \n",
       " Large ROE                                                                  -0.2   \n",
       " Large S/P                                                                  -0.2   \n",
       " Large Return Rate in the last quarter                                       1.0   \n",
       " Large Market Value                                                         -0.2   \n",
       " Small systematic Risk                                                      -0.2   \n",
       "\n",
       "                                          Large Market Value   \\\n",
       " Large B/P                                               -0.2   \n",
       " Large ROE                                               -0.2   \n",
       " Large S/P                                               -0.2   \n",
       " Large Return Rate in the last quarter                   -0.2   \n",
       " Large Market Value                                       1.0   \n",
       " Small systematic Risk                                   -0.2   \n",
       "\n",
       "                                          Small systematic Risk  \n",
       " Large B/P                                                 -0.2  \n",
       " Large ROE                                                 -0.2  \n",
       " Large S/P                                                 -0.2  \n",
       " Large Return Rate in the last quarter                     -0.2  \n",
       " Large Market Value                                        -0.2  \n",
       " Small systematic Risk                                      1.0  "
      ]
     },
     "execution_count": 146,
     "metadata": {},
     "output_type": "execute_result"
    }
   ],
   "source": [
    "corr_matrix = weight_df.corr()\n",
    "corr_matrix"
   ]
  },
  {
   "attachments": {},
   "cell_type": "markdown",
   "metadata": {},
   "source": [
    "using seaborn"
   ]
  },
  {
   "cell_type": "code",
   "execution_count": 147,
   "metadata": {},
   "outputs": [
    {
     "data": {
      "text/plain": [
       "<Axes: >"
      ]
     },
     "execution_count": 147,
     "metadata": {},
     "output_type": "execute_result"
    },
    {
     "data": {
      "image/png": "[encoded data removed]",
      "text/plain": [
       "<Figure size 640x480 with 2 Axes>"
      ]
     },
     "metadata": {},
     "output_type": "display_data"
    }
   ],
   "source": [
    "sns.heatmap(corr_matrix, annot=True)"
   ]
  },
  {
   "attachments": {},
   "cell_type": "markdown",
   "metadata": {},
   "source": [
    "using matlplotlib"
   ]
  },
  {
   "cell_type": "code",
   "execution_count": 148,
   "metadata": {},
   "outputs": [
    {
     "data": {
      "image/png": "[encoded data removed]",
      "text/plain": [
       "<Figure size 640x480 with 2 Axes>"
      ]
     },
     "metadata": {},
     "output_type": "display_data"
    }
   ],
   "source": [
    "plt.imshow(corr_matrix, cmap='hot', interpolation='nearest')\n",
    "plt.colorbar()\n",
    "plt.xticks(range(len(corr_matrix.columns)), corr_matrix.columns, rotation=90)\n",
    "plt.yticks(range(len(corr_matrix.columns)), corr_matrix.columns)\n",
    "plt.show()"
   ]
  },
  {
   "attachments": {},
   "cell_type": "markdown",
   "metadata": {},
   "source": [
    "Bartlett's sphericity test"
   ]
  },
  {
   "cell_type": "code",
   "execution_count": 149,
   "metadata": {},
   "outputs": [
    {
     "name": "stdout",
     "output_type": "stream",
     "text": [
      "Chi-square value: nan\n",
      "P-value: nan\n"
     ]
    },
    {
     "name": "stderr",
     "output_type": "stream",
     "text": [
      "d:\\softwares\\Codes\\GIT HUB\\Stock-portfolio-analysis-using-multivariate-linear-regression\\ADAenv\\Lib\\site-packages\\factor_analyzer\\factor_analyzer.py:108: RuntimeWarning: invalid value encountered in log\n",
      "  statistic = -np.log(corr_det) * (n - 1 - (2 * p + 5) / 6)\n"
     ]
    }
   ],
   "source": [
    "# Perform Bartlett's sphericity test\n",
    "chi_square_value, p_value = calculate_bartlett_sphericity(corr_matrix)\n",
    "\n",
    "# Print the test results\n",
    "print(\"Chi-square value:\", chi_square_value)\n",
    "print(\"P-value:\", p_value)\n"
   ]
  },
  {
   "attachments": {},
   "cell_type": "markdown",
   "metadata": {},
   "source": [
    "p<0.5 : do PCA "
   ]
  },
  {
   "cell_type": "code",
   "execution_count": 150,
   "metadata": {},
   "outputs": [
    {
     "data": {
      "text/plain": [
       "(63, 6)"
      ]
     },
     "execution_count": 150,
     "metadata": {},
     "output_type": "execute_result"
    }
   ],
   "source": [
    "# standardize the data\n",
    "PCA_stand = StandardScaler().fit_transform(weight_df)\n",
    "PCA_stand.shape"
   ]
  },
  {
   "cell_type": "code",
   "execution_count": 151,
   "metadata": {},
   "outputs": [
    {
     "data": {
      "image/png": "[encoded data removed]",
      "text/plain": [
       "<Figure size 640x480 with 1 Axes>"
      ]
     },
     "metadata": {},
     "output_type": "display_data"
    }
   ],
   "source": [
    "data_standardized = (weight_df - np.mean(weight_df, axis=0)) / np.std(weight_df, axis=0)\n",
    "\n",
    "# Fit PCA model and transform the data\n",
    "pca = PCA()\n",
    "pca.fit(data_standardized)\n",
    "pca_data = pca.transform(data_standardized)\n",
    "\n",
    "# Generate scree plot\n",
    "plt.plot(range(1, len(pca.explained_variance_ratio_)+1), pca.explained_variance_ratio_, 'bo-', linewidth=2)\n",
    "plt.title('Scree Plot')\n",
    "plt.xlabel('Principal Component')\n",
    "plt.ylabel('Proportion of Variance Explained')\n",
    "plt.show()"
   ]
  },
  {
   "cell_type": "code",
   "execution_count": 152,
   "metadata": {},
   "outputs": [
    {
     "name": "stdout",
     "output_type": "stream",
     "text": [
      "[19.99999575 19.99999575 19.99999575 19.99999575 19.99999575]\n"
     ]
    }
   ],
   "source": [
    "\n",
    "# perform PCA\n",
    "pca = PCA(n_components=5)\n",
    "principal_components = pca.fit_transform(data_standardized)\n",
    "\n",
    "# create a new DataFrame with the principal components\n",
    "pca_df = pd.DataFrame(data = principal_components, columns = ['PC1', 'PC2','PC3','PC4','PC5'])\n",
    "\n",
    "# print the explained variance ratio of each principal component\n",
    "print(pca.explained_variance_ratio_ * 100)\n"
   ]
  },
  {
   "cell_type": "code",
   "execution_count": 153,
   "metadata": {},
   "outputs": [],
   "source": [
    "# eigenVectors = pca.components_\n",
    "# eigenVectors"
   ]
  },
  {
   "cell_type": "code",
   "execution_count": 154,
   "metadata": {},
   "outputs": [
    {
     "data": {
      "text/plain": [
       "99.9999787309558"
      ]
     },
     "execution_count": 154,
     "metadata": {},
     "output_type": "execute_result"
    }
   ],
   "source": [
    "(pca.explained_variance_ratio_ * 100).sum()\n"
   ]
  },
  {
   "cell_type": "code",
   "execution_count": 155,
   "metadata": {},
   "outputs": [
    {
     "data": {
      "text/html": [
       "<div>\n",
       "<style scoped>\n",
       "    .dataframe tbody tr th:only-of-type {\n",
       "        vertical-align: middle;\n",
       "    }\n",
       "\n",
       "    .dataframe tbody tr th {\n",
       "        vertical-align: top;\n",
       "    }\n",
       "\n",
       "    .dataframe thead th {\n",
       "        text-align: right;\n",
       "    }\n",
       "</style>\n",
       "<table border=\"1\" class=\"dataframe\">\n",
       "  <thead>\n",
       "    <tr style=\"text-align: right;\">\n",
       "      <th></th>\n",
       "      <th>PC1</th>\n",
       "      <th>PC2</th>\n",
       "      <th>PC3</th>\n",
       "      <th>PC4</th>\n",
       "      <th>PC5</th>\n",
       "    </tr>\n",
       "  </thead>\n",
       "  <tbody>\n",
       "    <tr>\n",
       "      <th>0</th>\n",
       "      <td>4.040123e-17</td>\n",
       "      <td>-2.795707e-17</td>\n",
       "      <td>3.504603e-16</td>\n",
       "      <td>2.380617e-16</td>\n",
       "      <td>4.617075e+00</td>\n",
       "    </tr>\n",
       "    <tr>\n",
       "      <th>1</th>\n",
       "      <td>2.426477e-02</td>\n",
       "      <td>4.142349e+00</td>\n",
       "      <td>-3.124828e-01</td>\n",
       "      <td>-1.790920e+00</td>\n",
       "      <td>-9.234150e-01</td>\n",
       "    </tr>\n",
       "    <tr>\n",
       "      <th>2</th>\n",
       "      <td>-2.220732e+00</td>\n",
       "      <td>9.584540e-02</td>\n",
       "      <td>-1.996578e+00</td>\n",
       "      <td>3.396694e+00</td>\n",
       "      <td>-9.234150e-01</td>\n",
       "    </tr>\n",
       "    <tr>\n",
       "      <th>3</th>\n",
       "      <td>4.269827e+00</td>\n",
       "      <td>-9.481734e-01</td>\n",
       "      <td>-7.748220e-01</td>\n",
       "      <td>8.566720e-01</td>\n",
       "      <td>-9.234150e-01</td>\n",
       "    </tr>\n",
       "    <tr>\n",
       "      <th>4</th>\n",
       "      <td>-1.402599e+00</td>\n",
       "      <td>-2.670062e+00</td>\n",
       "      <td>-1.298954e+00</td>\n",
       "      <td>-3.111413e+00</td>\n",
       "      <td>-9.234150e-01</td>\n",
       "    </tr>\n",
       "    <tr>\n",
       "      <th>...</th>\n",
       "      <td>...</td>\n",
       "      <td>...</td>\n",
       "      <td>...</td>\n",
       "      <td>...</td>\n",
       "      <td>...</td>\n",
       "    </tr>\n",
       "    <tr>\n",
       "      <th>58</th>\n",
       "      <td>-8.539653e-01</td>\n",
       "      <td>1.896347e-01</td>\n",
       "      <td>1.549644e-01</td>\n",
       "      <td>-1.713344e-01</td>\n",
       "      <td>1.846830e-01</td>\n",
       "    </tr>\n",
       "    <tr>\n",
       "      <th>59</th>\n",
       "      <td>4.441463e-01</td>\n",
       "      <td>-1.916908e-02</td>\n",
       "      <td>3.993156e-01</td>\n",
       "      <td>-6.793388e-01</td>\n",
       "      <td>1.846830e-01</td>\n",
       "    </tr>\n",
       "    <tr>\n",
       "      <th>60</th>\n",
       "      <td>-4.852953e-03</td>\n",
       "      <td>-8.284699e-01</td>\n",
       "      <td>6.249655e-02</td>\n",
       "      <td>3.581840e-01</td>\n",
       "      <td>1.846830e-01</td>\n",
       "    </tr>\n",
       "    <tr>\n",
       "      <th>61</th>\n",
       "      <td>-2.479074e-17</td>\n",
       "      <td>-2.222552e-16</td>\n",
       "      <td>6.659496e-17</td>\n",
       "      <td>7.434464e-17</td>\n",
       "      <td>-9.234150e-01</td>\n",
       "    </tr>\n",
       "    <tr>\n",
       "      <th>62</th>\n",
       "      <td>-1.885182e-16</td>\n",
       "      <td>-2.148842e-15</td>\n",
       "      <td>2.730769e-16</td>\n",
       "      <td>5.332497e-16</td>\n",
       "      <td>-1.079546e-17</td>\n",
       "    </tr>\n",
       "  </tbody>\n",
       "</table>\n",
       "<p>63 rows × 5 columns</p>\n",
       "</div>"
      ],
      "text/plain": [
       "             PC1           PC2           PC3           PC4           PC5\n",
       "0   4.040123e-17 -2.795707e-17  3.504603e-16  2.380617e-16  4.617075e+00\n",
       "1   2.426477e-02  4.142349e+00 -3.124828e-01 -1.790920e+00 -9.234150e-01\n",
       "2  -2.220732e+00  9.584540e-02 -1.996578e+00  3.396694e+00 -9.234150e-01\n",
       "3   4.269827e+00 -9.481734e-01 -7.748220e-01  8.566720e-01 -9.234150e-01\n",
       "4  -1.402599e+00 -2.670062e+00 -1.298954e+00 -3.111413e+00 -9.234150e-01\n",
       "..           ...           ...           ...           ...           ...\n",
       "58 -8.539653e-01  1.896347e-01  1.549644e-01 -1.713344e-01  1.846830e-01\n",
       "59  4.441463e-01 -1.916908e-02  3.993156e-01 -6.793388e-01  1.846830e-01\n",
       "60 -4.852953e-03 -8.284699e-01  6.249655e-02  3.581840e-01  1.846830e-01\n",
       "61 -2.479074e-17 -2.222552e-16  6.659496e-17  7.434464e-17 -9.234150e-01\n",
       "62 -1.885182e-16 -2.148842e-15  2.730769e-16  5.332497e-16 -1.079546e-17\n",
       "\n",
       "[63 rows x 5 columns]"
      ]
     },
     "execution_count": 155,
     "metadata": {},
     "output_type": "execute_result"
    }
   ],
   "source": [
    "pca_df"
   ]
  },
  {
   "attachments": {},
   "cell_type": "markdown",
   "metadata": {},
   "source": [
    "test and train data"
   ]
  },
  {
   "cell_type": "code",
   "execution_count": 156,
   "metadata": {},
   "outputs": [],
   "source": [
    "X_train, X_test, y_train, y_test = train_test_split(pca_df, outputs_df.iloc[:,0], test_size=0.3, random_state=20)"
   ]
  },
  {
   "cell_type": "code",
   "execution_count": 157,
   "metadata": {},
   "outputs": [
    {
     "name": "stdout",
     "output_type": "stream",
     "text": [
      "R^2 score: -0.28149745461755393\n"
     ]
    }
   ],
   "source": [
    "model = LinearRegression()\n",
    "model.fit(X_train, y_train)\n",
    "\n",
    "# evaluate the model on the testing data\n",
    "y_predict = model.predict(X_test)\n",
    "score = model.score(X_test, y_test)\n",
    "\n",
    "# print the R^2 score\n",
    "print('R^2 score:', score)\n"
   ]
  },
  {
   "cell_type": "code",
   "execution_count": 158,
   "metadata": {},
   "outputs": [
    {
     "ename": "IndexingError",
     "evalue": "Too many indexers",
     "output_type": "error",
     "traceback": [
      "\u001b[1;31m---------------------------------------------------------------------------\u001b[0m",
      "\u001b[1;31mIndexingError\u001b[0m                             Traceback (most recent call last)",
      "Cell \u001b[1;32mIn[158], line 2\u001b[0m\n\u001b[0;32m      1\u001b[0m \u001b[39mfor\u001b[39;00m i \u001b[39min\u001b[39;00m \u001b[39mrange\u001b[39m(\u001b[39m6\u001b[39m):\n\u001b[1;32m----> 2\u001b[0m     plt\u001b[39m.\u001b[39mscatter(y_test\u001b[39m.\u001b[39;49miloc[:, i], y_predict[:, i])\n\u001b[0;32m      3\u001b[0m     plt\u001b[39m.\u001b[39mplot([y_test\u001b[39m.\u001b[39miloc[:, i]\u001b[39m.\u001b[39mmin(), y_test\u001b[39m.\u001b[39miloc[:, i]\u001b[39m.\u001b[39mmax()], [y_test\u001b[39m.\u001b[39miloc[:, i]\u001b[39m.\u001b[39mmin(), y_test\u001b[39m.\u001b[39miloc[:, i]\u001b[39m.\u001b[39mmax()], \u001b[39m'\u001b[39m\u001b[39mk--\u001b[39m\u001b[39m'\u001b[39m, lw\u001b[39m=\u001b[39m\u001b[39m4\u001b[39m)\n\u001b[0;32m      4\u001b[0m     plt\u001b[39m.\u001b[39mxlabel(\u001b[39m'\u001b[39m\u001b[39mActual\u001b[39m\u001b[39m'\u001b[39m)\n",
      "File \u001b[1;32md:\\softwares\\Codes\\GIT HUB\\Stock-portfolio-analysis-using-multivariate-linear-regression\\ADAenv\\Lib\\site-packages\\pandas\\core\\indexing.py:1067\u001b[0m, in \u001b[0;36m_LocationIndexer.__getitem__\u001b[1;34m(self, key)\u001b[0m\n\u001b[0;32m   1065\u001b[0m     \u001b[39mif\u001b[39;00m \u001b[39mself\u001b[39m\u001b[39m.\u001b[39m_is_scalar_access(key):\n\u001b[0;32m   1066\u001b[0m         \u001b[39mreturn\u001b[39;00m \u001b[39mself\u001b[39m\u001b[39m.\u001b[39mobj\u001b[39m.\u001b[39m_get_value(\u001b[39m*\u001b[39mkey, takeable\u001b[39m=\u001b[39m\u001b[39mself\u001b[39m\u001b[39m.\u001b[39m_takeable)\n\u001b[1;32m-> 1067\u001b[0m     \u001b[39mreturn\u001b[39;00m \u001b[39mself\u001b[39;49m\u001b[39m.\u001b[39;49m_getitem_tuple(key)\n\u001b[0;32m   1068\u001b[0m \u001b[39melse\u001b[39;00m:\n\u001b[0;32m   1069\u001b[0m     \u001b[39m# we by definition only have the 0th axis\u001b[39;00m\n\u001b[0;32m   1070\u001b[0m     axis \u001b[39m=\u001b[39m \u001b[39mself\u001b[39m\u001b[39m.\u001b[39maxis \u001b[39mor\u001b[39;00m \u001b[39m0\u001b[39m\n",
      "File \u001b[1;32md:\\softwares\\Codes\\GIT HUB\\Stock-portfolio-analysis-using-multivariate-linear-regression\\ADAenv\\Lib\\site-packages\\pandas\\core\\indexing.py:1563\u001b[0m, in \u001b[0;36m_iLocIndexer._getitem_tuple\u001b[1;34m(self, tup)\u001b[0m\n\u001b[0;32m   1561\u001b[0m \u001b[39mdef\u001b[39;00m \u001b[39m_getitem_tuple\u001b[39m(\u001b[39mself\u001b[39m, tup: \u001b[39mtuple\u001b[39m):\n\u001b[1;32m-> 1563\u001b[0m     tup \u001b[39m=\u001b[39m \u001b[39mself\u001b[39;49m\u001b[39m.\u001b[39;49m_validate_tuple_indexer(tup)\n\u001b[0;32m   1564\u001b[0m     \u001b[39mwith\u001b[39;00m suppress(IndexingError):\n\u001b[0;32m   1565\u001b[0m         \u001b[39mreturn\u001b[39;00m \u001b[39mself\u001b[39m\u001b[39m.\u001b[39m_getitem_lowerdim(tup)\n",
      "File \u001b[1;32md:\\softwares\\Codes\\GIT HUB\\Stock-portfolio-analysis-using-multivariate-linear-regression\\ADAenv\\Lib\\site-packages\\pandas\\core\\indexing.py:869\u001b[0m, in \u001b[0;36m_LocationIndexer._validate_tuple_indexer\u001b[1;34m(self, key)\u001b[0m\n\u001b[0;32m    864\u001b[0m \u001b[39m@final\u001b[39m\n\u001b[0;32m    865\u001b[0m \u001b[39mdef\u001b[39;00m \u001b[39m_validate_tuple_indexer\u001b[39m(\u001b[39mself\u001b[39m, key: \u001b[39mtuple\u001b[39m) \u001b[39m-\u001b[39m\u001b[39m>\u001b[39m \u001b[39mtuple\u001b[39m:\n\u001b[0;32m    866\u001b[0m \u001b[39m    \u001b[39m\u001b[39m\"\"\"\u001b[39;00m\n\u001b[0;32m    867\u001b[0m \u001b[39m    Check the key for valid keys across my indexer.\u001b[39;00m\n\u001b[0;32m    868\u001b[0m \u001b[39m    \"\"\"\u001b[39;00m\n\u001b[1;32m--> 869\u001b[0m     key \u001b[39m=\u001b[39m \u001b[39mself\u001b[39;49m\u001b[39m.\u001b[39;49m_validate_key_length(key)\n\u001b[0;32m    870\u001b[0m     key \u001b[39m=\u001b[39m \u001b[39mself\u001b[39m\u001b[39m.\u001b[39m_expand_ellipsis(key)\n\u001b[0;32m    871\u001b[0m     \u001b[39mfor\u001b[39;00m i, k \u001b[39min\u001b[39;00m \u001b[39menumerate\u001b[39m(key):\n",
      "File \u001b[1;32md:\\softwares\\Codes\\GIT HUB\\Stock-portfolio-analysis-using-multivariate-linear-regression\\ADAenv\\Lib\\site-packages\\pandas\\core\\indexing.py:908\u001b[0m, in \u001b[0;36m_LocationIndexer._validate_key_length\u001b[1;34m(self, key)\u001b[0m\n\u001b[0;32m    906\u001b[0m             \u001b[39mraise\u001b[39;00m IndexingError(_one_ellipsis_message)\n\u001b[0;32m    907\u001b[0m         \u001b[39mreturn\u001b[39;00m \u001b[39mself\u001b[39m\u001b[39m.\u001b[39m_validate_key_length(key)\n\u001b[1;32m--> 908\u001b[0m     \u001b[39mraise\u001b[39;00m IndexingError(\u001b[39m\"\u001b[39m\u001b[39mToo many indexers\u001b[39m\u001b[39m\"\u001b[39m)\n\u001b[0;32m    909\u001b[0m \u001b[39mreturn\u001b[39;00m key\n",
      "\u001b[1;31mIndexingError\u001b[0m: Too many indexers"
     ]
    }
   ],
   "source": [
    "for i in range(6):\n",
    "    plt.scatter(y_test.iloc[:, i], y_predict[:, i])\n",
    "    plt.plot([y_test.iloc[:, i].min(), y_test.iloc[:, i].max()], [y_test.iloc[:, i].min(), y_test.iloc[:, i].max()], 'k--', lw=4)\n",
    "    plt.xlabel('Actual')\n",
    "    plt.ylabel('Predicted')\n",
    "    plt.title(f\"Output {i+1}\")\n",
    "    plt.show()"
   ]
  },
  {
   "attachments": {},
   "cell_type": "markdown",
   "metadata": {},
   "source": [
    "Test of assumptions"
   ]
  },
  {
   "attachments": {},
   "cell_type": "markdown",
   "metadata": {},
   "source": [
    "1.Homoscedasticity"
   ]
  },
  {
   "cell_type": "code",
   "execution_count": null,
   "metadata": {},
   "outputs": [],
   "source": [
    "\n"
   ]
  },
  {
   "attachments": {},
   "cell_type": "markdown",
   "metadata": {},
   "source": [
    "2.Normality"
   ]
  },
  {
   "attachments": {},
   "cell_type": "markdown",
   "metadata": {},
   "source": [
    "**QQ plot**"
   ]
  },
  {
   "cell_type": "code",
   "execution_count": null,
   "metadata": {},
   "outputs": [
    {
     "data": {
      "image/png": "[encoded data removed]",
      "text/plain": [
       "<Figure size 1500x500 with 5 Axes>"
      ]
     },
     "metadata": {},
     "output_type": "display_data"
    }
   ],
   "source": [
    "import scipy.stats as stats\n",
    "\n",
    "# create a figure with 5 subplots\n",
    "fig, axs = plt.subplots(ncols=5, figsize=(15, 5))\n",
    "\n",
    "# plot each QQ plot using Matplotlib\n",
    "for i, col in enumerate(pca_df.columns):\n",
    "    stats.probplot(pca_df[col], dist=\"norm\", plot=axs[i])\n",
    "    axs[i].set_title(f'{col} QQ Plot')\n",
    "\n",
    "plt.tight_layout()\n",
    "plt.show()\n"
   ]
  },
  {
   "attachments": {},
   "cell_type": "markdown",
   "metadata": {},
   "source": [
    "3.Multi Colinearity"
   ]
  },
  {
   "attachments": {},
   "cell_type": "markdown",
   "metadata": {},
   "source": [
    "**VIF**"
   ]
  },
  {
   "cell_type": "code",
   "execution_count": null,
   "metadata": {},
   "outputs": [
    {
     "name": "stdout",
     "output_type": "stream",
     "text": [
      "     VIF Factor                                Predictor\n",
      "0  3.339001e+06                                    const\n",
      "1  1.306026e+05                               Large B/P \n",
      "2  1.306026e+05                               Large ROE \n",
      "3  1.306026e+05                               Large S/P \n",
      "4  1.306026e+05   Large Return Rate in the last quarter \n",
      "5  1.306026e+05                      Large Market Value \n",
      "6  1.306026e+05                    Small systematic Risk\n"
     ]
    }
   ],
   "source": [
    "import statsmodels.api as sm\n",
    "from statsmodels.stats.outliers_influence import variance_inflation_factor\n",
    "\n",
    "# extract predictor variables and target variable\n",
    "X = weight_df\n",
    "y = outputs_df\n",
    "\n",
    "# add a constant to the predictor variables\n",
    "X = sm.add_constant(X)\n",
    "\n",
    "# fit a linear regression model\n",
    "model = sm.OLS(y, X).fit()\n",
    "\n",
    "# calculate VIF for each predictor variable\n",
    "vif = pd.DataFrame()\n",
    "vif[\"VIF Factor\"] = [variance_inflation_factor(X.values, i) for i in range(X.shape[1])]\n",
    "vif[\"Predictor\"] = X.columns\n",
    "\n",
    "# display the VIF table\n",
    "print(vif)\n"
   ]
  },
  {
   "attachments": {},
   "cell_type": "markdown",
   "metadata": {},
   "source": [
    "4.Auto Corelation"
   ]
  },
  {
   "attachments": {},
   "cell_type": "markdown",
   "metadata": {},
   "source": [
    "**DW test**"
   ]
  },
  {
   "cell_type": "code",
   "execution_count": null,
   "metadata": {},
   "outputs": [
    {
     "name": "stdout",
     "output_type": "stream",
     "text": [
      "PC1: DW test statistic = 1.7498656901966185\n",
      "PC2: DW test statistic = 1.855842971468677\n",
      "PC3: DW test statistic = 1.8558429714686766\n",
      "PC4: DW test statistic = 1.8558429714686768\n",
      "PC5: DW test statistic = 1.8558429714686764\n"
     ]
    }
   ],
   "source": [
    "import statsmodels.api as sm\n",
    "\n",
    "# loop through each column and calculate the DW test statistic\n",
    "for col in pca_df.columns:\n",
    "    X = pca_df[col]\n",
    "    X = sm.add_constant(X)\n",
    "    model = sm.OLS(pca_df['PC1'], X).fit()\n",
    "    print(f\"{col}: DW test statistic = {sm.stats.stattools.durbin_watson(model.resid)}\")\n"
   ]
  }
 ],
 "metadata": {
  "kernelspec": {
   "display_name": "Python 3",
   "language": "python",
   "name": "python3"
  },
  "language_info": {
   "codemirror_mode": {
    "name": "ipython",
    "version": 3
   },
   "file_extension": ".py",
   "mimetype": "text/x-python",
   "name": "python",
   "nbconvert_exporter": "python",
   "pygments_lexer": "ipython3",
   "version": "3.11.2"
  },
  "orig_nbformat": 4
 },
 "nbformat": 4,
 "nbformat_minor": 2
}
