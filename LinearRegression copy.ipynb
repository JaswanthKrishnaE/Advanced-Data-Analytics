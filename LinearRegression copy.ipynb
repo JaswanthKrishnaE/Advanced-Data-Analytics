{
 "cells": [
  {
   "cell_type": "code",
   "execution_count": 1,
   "metadata": {},
   "outputs": [],
   "source": [
    "import numpy as np\n",
    "import pandas as pd"
   ]
  },
  {
   "attachments": {},
   "cell_type": "markdown",
   "metadata": {},
   "source": [
    "data visualization"
   ]
  },
  {
   "cell_type": "code",
   "execution_count": 2,
   "metadata": {},
   "outputs": [],
   "source": [
    "import matplotlib.pyplot as plt\n",
    "import seaborn as sns"
   ]
  },
  {
   "attachments": {},
   "cell_type": "markdown",
   "metadata": {},
   "source": [
    "**Influential points** "
   ]
  },
  {
   "cell_type": "code",
   "execution_count": 3,
   "metadata": {},
   "outputs": [],
   "source": [
    "from scipy import stats"
   ]
  },
  {
   "attachments": {},
   "cell_type": "markdown",
   "metadata": {},
   "source": [
    "**Bartlett's sphericity test**"
   ]
  },
  {
   "cell_type": "code",
   "execution_count": 4,
   "metadata": {},
   "outputs": [],
   "source": [
    "from factor_analyzer import FactorAnalyzer\n",
    "from factor_analyzer.factor_analyzer import calculate_bartlett_sphericity"
   ]
  },
  {
   "attachments": {},
   "cell_type": "markdown",
   "metadata": {},
   "source": [
    "**PCA**"
   ]
  },
  {
   "cell_type": "code",
   "execution_count": 5,
   "metadata": {},
   "outputs": [],
   "source": [
    "from sklearn.decomposition import PCA\n",
    "from sklearn.preprocessing import StandardScaler"
   ]
  },
  {
   "attachments": {},
   "cell_type": "markdown",
   "metadata": {},
   "source": [
    "**TEST OF ASSUMPTIONS**"
   ]
  },
  {
   "cell_type": "code",
   "execution_count": 6,
   "metadata": {},
   "outputs": [],
   "source": [
    "import statsmodels.api as sm\n",
    "#!\n",
    "\n",
    "#2\n",
    "\n",
    "#3 VIF\n",
    "from statsmodels.stats.outliers_influence import variance_inflation_factor\n",
    "#DW Test\n",
    "from statsmodels.stats.stattools import durbin_watson"
   ]
  },
  {
   "attachments": {},
   "cell_type": "markdown",
   "metadata": {},
   "source": [
    "Linear Regression\n",
    "Testing and training data"
   ]
  },
  {
   "cell_type": "code",
   "execution_count": 7,
   "metadata": {},
   "outputs": [],
   "source": [
    "from sklearn.model_selection import train_test_split\n",
    "from sklearn.linear_model import LinearRegression\n",
    "from statsmodels.formula.api import glm"
   ]
  },
  {
   "attachments": {},
   "cell_type": "markdown",
   "metadata": {},
   "source": [
    "weights = weights of stockpicking concept\n",
    "' Large B/P ', ' Large ROE ', ' Large S/P ',' Large Return Rate in the last quarter ', ' Large Market Value ',' Small systematic Risk'\n",
    "outputs = The normalized investment performance indicator \n",
    "'Annual Return.1', 'Excess Return.1','Systematic Risk.1', 'Total Risk.1', 'Abs. Win Rate.1','Rel. Win Rate.1'"
   ]
  },
  {
   "cell_type": "code",
   "execution_count": 8,
   "metadata": {},
   "outputs": [],
   "source": [
    "csvFile = \"stock portfolio performance data set.xlsx\""
   ]
  },
  {
   "cell_type": "code",
   "execution_count": 9,
   "metadata": {},
   "outputs": [],
   "source": [
    "df = pd.read_excel(csvFile,\"all period\",skiprows=[0],usecols = [1,2,3,4,5,6,13,14,15,16,17,18])"
   ]
  },
  {
   "cell_type": "code",
   "execution_count": 10,
   "metadata": {},
   "outputs": [
    {
     "data": {
      "text/html": [
       "<div>\n",
       "<style scoped>\n",
       "    .dataframe tbody tr th:only-of-type {\n",
       "        vertical-align: middle;\n",
       "    }\n",
       "\n",
       "    .dataframe tbody tr th {\n",
       "        vertical-align: top;\n",
       "    }\n",
       "\n",
       "    .dataframe thead th {\n",
       "        text-align: right;\n",
       "    }\n",
       "</style>\n",
       "<table border=\"1\" class=\"dataframe\">\n",
       "  <thead>\n",
       "    <tr style=\"text-align: right;\">\n",
       "      <th></th>\n",
       "      <th>Large B/P</th>\n",
       "      <th>Large ROE</th>\n",
       "      <th>Large S/P</th>\n",
       "      <th>Large Return Rate in the last quarter</th>\n",
       "      <th>Large Market Value</th>\n",
       "      <th>Small systematic Risk</th>\n",
       "      <th>Annual Return.1</th>\n",
       "      <th>Excess Return.1</th>\n",
       "      <th>Systematic Risk.1</th>\n",
       "      <th>Total Risk.1</th>\n",
       "      <th>Abs. Win Rate.1</th>\n",
       "      <th>Rel. Win Rate.1</th>\n",
       "    </tr>\n",
       "  </thead>\n",
       "  <tbody>\n",
       "    <tr>\n",
       "      <th>0</th>\n",
       "      <td>1.0</td>\n",
       "      <td>0.0</td>\n",
       "      <td>0.0</td>\n",
       "      <td>0.0</td>\n",
       "      <td>0.0</td>\n",
       "      <td>0.0</td>\n",
       "      <td>0.531875</td>\n",
       "      <td>0.478116</td>\n",
       "      <td>0.738015</td>\n",
       "      <td>0.800000</td>\n",
       "      <td>0.52</td>\n",
       "      <td>0.411765</td>\n",
       "    </tr>\n",
       "    <tr>\n",
       "      <th>1</th>\n",
       "      <td>0.0</td>\n",
       "      <td>1.0</td>\n",
       "      <td>0.0</td>\n",
       "      <td>0.0</td>\n",
       "      <td>0.0</td>\n",
       "      <td>0.0</td>\n",
       "      <td>0.549712</td>\n",
       "      <td>0.487595</td>\n",
       "      <td>0.571579</td>\n",
       "      <td>0.412231</td>\n",
       "      <td>0.52</td>\n",
       "      <td>0.764706</td>\n",
       "    </tr>\n",
       "    <tr>\n",
       "      <th>2</th>\n",
       "      <td>0.0</td>\n",
       "      <td>0.0</td>\n",
       "      <td>1.0</td>\n",
       "      <td>0.0</td>\n",
       "      <td>0.0</td>\n",
       "      <td>0.0</td>\n",
       "      <td>0.692625</td>\n",
       "      <td>0.629895</td>\n",
       "      <td>0.703051</td>\n",
       "      <td>0.756879</td>\n",
       "      <td>0.44</td>\n",
       "      <td>0.376471</td>\n",
       "    </tr>\n",
       "    <tr>\n",
       "      <th>3</th>\n",
       "      <td>0.0</td>\n",
       "      <td>0.0</td>\n",
       "      <td>0.0</td>\n",
       "      <td>1.0</td>\n",
       "      <td>0.0</td>\n",
       "      <td>0.0</td>\n",
       "      <td>0.324351</td>\n",
       "      <td>0.255634</td>\n",
       "      <td>0.800000</td>\n",
       "      <td>0.756046</td>\n",
       "      <td>0.36</td>\n",
       "      <td>0.270588</td>\n",
       "    </tr>\n",
       "    <tr>\n",
       "      <th>4</th>\n",
       "      <td>0.0</td>\n",
       "      <td>0.0</td>\n",
       "      <td>0.0</td>\n",
       "      <td>0.0</td>\n",
       "      <td>1.0</td>\n",
       "      <td>0.0</td>\n",
       "      <td>0.326615</td>\n",
       "      <td>0.306501</td>\n",
       "      <td>0.432452</td>\n",
       "      <td>0.209289</td>\n",
       "      <td>0.72</td>\n",
       "      <td>0.447059</td>\n",
       "    </tr>\n",
       "  </tbody>\n",
       "</table>\n",
       "</div>"
      ],
      "text/plain": [
       "    Large B/P    Large ROE    Large S/P   \\\n",
       "0          1.0          0.0          0.0   \n",
       "1          0.0          1.0          0.0   \n",
       "2          0.0          0.0          1.0   \n",
       "3          0.0          0.0          0.0   \n",
       "4          0.0          0.0          0.0   \n",
       "\n",
       "    Large Return Rate in the last quarter    Large Market Value   \\\n",
       "0                                      0.0                   0.0   \n",
       "1                                      0.0                   0.0   \n",
       "2                                      0.0                   0.0   \n",
       "3                                      1.0                   0.0   \n",
       "4                                      0.0                   1.0   \n",
       "\n",
       "    Small systematic Risk  Annual Return.1  Excess Return.1  \\\n",
       "0                     0.0         0.531875         0.478116   \n",
       "1                     0.0         0.549712         0.487595   \n",
       "2                     0.0         0.692625         0.629895   \n",
       "3                     0.0         0.324351         0.255634   \n",
       "4                     0.0         0.326615         0.306501   \n",
       "\n",
       "   Systematic Risk.1  Total Risk.1  Abs. Win Rate.1  Rel. Win Rate.1  \n",
       "0           0.738015      0.800000             0.52         0.411765  \n",
       "1           0.571579      0.412231             0.52         0.764706  \n",
       "2           0.703051      0.756879             0.44         0.376471  \n",
       "3           0.800000      0.756046             0.36         0.270588  \n",
       "4           0.432452      0.209289             0.72         0.447059  "
      ]
     },
     "execution_count": 10,
     "metadata": {},
     "output_type": "execute_result"
    }
   ],
   "source": [
    "df.head()"
   ]
  },
  {
   "cell_type": "code",
   "execution_count": 11,
   "metadata": {},
   "outputs": [
    {
     "data": {
      "text/plain": [
       "Index([' Large B/P ', ' Large ROE ', ' Large S/P ',\n",
       "       ' Large Return Rate in the last quarter ', ' Large Market Value ',\n",
       "       ' Small systematic Risk', 'Annual Return.1', 'Excess Return.1',\n",
       "       'Systematic Risk.1', 'Total Risk.1', 'Abs. Win Rate.1',\n",
       "       'Rel. Win Rate.1'],\n",
       "      dtype='object')"
      ]
     },
     "execution_count": 11,
     "metadata": {},
     "output_type": "execute_result"
    }
   ],
   "source": [
    "df.columns"
   ]
  },
  {
   "cell_type": "code",
   "execution_count": 12,
   "metadata": {},
   "outputs": [
    {
     "name": "stdout",
     "output_type": "stream",
     "text": [
      "Index([' Large B/P ', ' Large ROE ', ' Large S/P ',\n",
      "       ' Large Return Rate in the last quarter ', ' Large Market Value ',\n",
      "       ' Small systematic Risk'],\n",
      "      dtype='object')\n"
     ]
    }
   ],
   "source": [
    "weights = df.columns[:6]\n",
    "print(weights)"
   ]
  },
  {
   "cell_type": "code",
   "execution_count": 13,
   "metadata": {},
   "outputs": [
    {
     "name": "stdout",
     "output_type": "stream",
     "text": [
      "Index(['Annual Return.1', 'Excess Return.1', 'Systematic Risk.1',\n",
      "       'Total Risk.1', 'Abs. Win Rate.1', 'Rel. Win Rate.1'],\n",
      "      dtype='object')\n"
     ]
    }
   ],
   "source": [
    "outputs = df.columns[-6:]\n",
    "print(outputs)"
   ]
  },
  {
   "attachments": {},
   "cell_type": "markdown",
   "metadata": {},
   "source": [
    "Outputs"
   ]
  },
  {
   "cell_type": "code",
   "execution_count": 14,
   "metadata": {},
   "outputs": [
    {
     "data": {
      "image/png": "[encoded data removed]",
      "text/plain": [
       "<Figure size 640x480 with 1 Axes>"
      ]
     },
     "metadata": {},
     "output_type": "display_data"
    }
   ],
   "source": [
    "plt.boxplot(df.iloc[:,:6])\n",
    "plt.show()"
   ]
  },
  {
   "attachments": {},
   "cell_type": "markdown",
   "metadata": {},
   "source": [
    "weigths"
   ]
  },
  {
   "cell_type": "code",
   "execution_count": 15,
   "metadata": {},
   "outputs": [
    {
     "data": {
      "image/png": "[encoded data removed]",
      "text/plain": [
       "<Figure size 640x480 with 1 Axes>"
      ]
     },
     "metadata": {},
     "output_type": "display_data"
    }
   ],
   "source": [
    "plt.boxplot(df.iloc[:,7:])\n",
    "plt.show()"
   ]
  },
  {
   "attachments": {},
   "cell_type": "markdown",
   "metadata": {},
   "source": [
    "Removing influential points\n",
    "\n"
   ]
  },
  {
   "cell_type": "code",
   "execution_count": 16,
   "metadata": {},
   "outputs": [
    {
     "data": {
      "text/plain": [
       "(63, 12)"
      ]
     },
     "execution_count": 16,
     "metadata": {},
     "output_type": "execute_result"
    }
   ],
   "source": [
    "df.shape"
   ]
  },
  {
   "attachments": {},
   "cell_type": "markdown",
   "metadata": {},
   "source": [
    "**Menthod1** : Z Score"
   ]
  },
  {
   "cell_type": "code",
   "execution_count": 17,
   "metadata": {},
   "outputs": [
    {
     "data": {
      "text/plain": [
       "(57, 12)"
      ]
     },
     "execution_count": 17,
     "metadata": {},
     "output_type": "execute_result"
    }
   ],
   "source": [
    "z_scores = np.abs(stats.zscore(df))\n",
    "threshold = 3\n",
    "df_clean = df[(z_scores < threshold).all(axis=1)]\n",
    "df_clean.shape\n"
   ]
  },
  {
   "cell_type": "code",
   "execution_count": 18,
   "metadata": {},
   "outputs": [
    {
     "data": {
      "text/html": [
       "<div>\n",
       "<style scoped>\n",
       "    .dataframe tbody tr th:only-of-type {\n",
       "        vertical-align: middle;\n",
       "    }\n",
       "\n",
       "    .dataframe tbody tr th {\n",
       "        vertical-align: top;\n",
       "    }\n",
       "\n",
       "    .dataframe thead th {\n",
       "        text-align: right;\n",
       "    }\n",
       "</style>\n",
       "<table border=\"1\" class=\"dataframe\">\n",
       "  <thead>\n",
       "    <tr style=\"text-align: right;\">\n",
       "      <th></th>\n",
       "      <th>Large B/P</th>\n",
       "      <th>Large ROE</th>\n",
       "      <th>Large S/P</th>\n",
       "      <th>Large Return Rate in the last quarter</th>\n",
       "      <th>Large Market Value</th>\n",
       "      <th>Small systematic Risk</th>\n",
       "      <th>Annual Return.1</th>\n",
       "      <th>Excess Return.1</th>\n",
       "      <th>Systematic Risk.1</th>\n",
       "      <th>Total Risk.1</th>\n",
       "      <th>Abs. Win Rate.1</th>\n",
       "      <th>Rel. Win Rate.1</th>\n",
       "    </tr>\n",
       "  </thead>\n",
       "  <tbody>\n",
       "    <tr>\n",
       "      <th>0</th>\n",
       "      <td>1.0</td>\n",
       "      <td>0.0</td>\n",
       "      <td>0.0</td>\n",
       "      <td>0.0</td>\n",
       "      <td>0.0</td>\n",
       "      <td>0.0</td>\n",
       "      <td>0.531875</td>\n",
       "      <td>0.478116</td>\n",
       "      <td>0.738015</td>\n",
       "      <td>0.800000</td>\n",
       "      <td>0.52</td>\n",
       "      <td>0.411765</td>\n",
       "    </tr>\n",
       "    <tr>\n",
       "      <th>1</th>\n",
       "      <td>0.0</td>\n",
       "      <td>1.0</td>\n",
       "      <td>0.0</td>\n",
       "      <td>0.0</td>\n",
       "      <td>0.0</td>\n",
       "      <td>0.0</td>\n",
       "      <td>0.549712</td>\n",
       "      <td>0.487595</td>\n",
       "      <td>0.571579</td>\n",
       "      <td>0.412231</td>\n",
       "      <td>0.52</td>\n",
       "      <td>0.764706</td>\n",
       "    </tr>\n",
       "    <tr>\n",
       "      <th>2</th>\n",
       "      <td>0.0</td>\n",
       "      <td>0.0</td>\n",
       "      <td>1.0</td>\n",
       "      <td>0.0</td>\n",
       "      <td>0.0</td>\n",
       "      <td>0.0</td>\n",
       "      <td>0.692625</td>\n",
       "      <td>0.629895</td>\n",
       "      <td>0.703051</td>\n",
       "      <td>0.756879</td>\n",
       "      <td>0.44</td>\n",
       "      <td>0.376471</td>\n",
       "    </tr>\n",
       "    <tr>\n",
       "      <th>3</th>\n",
       "      <td>0.0</td>\n",
       "      <td>0.0</td>\n",
       "      <td>0.0</td>\n",
       "      <td>1.0</td>\n",
       "      <td>0.0</td>\n",
       "      <td>0.0</td>\n",
       "      <td>0.324351</td>\n",
       "      <td>0.255634</td>\n",
       "      <td>0.800000</td>\n",
       "      <td>0.756046</td>\n",
       "      <td>0.36</td>\n",
       "      <td>0.270588</td>\n",
       "    </tr>\n",
       "    <tr>\n",
       "      <th>4</th>\n",
       "      <td>0.0</td>\n",
       "      <td>0.0</td>\n",
       "      <td>0.0</td>\n",
       "      <td>0.0</td>\n",
       "      <td>1.0</td>\n",
       "      <td>0.0</td>\n",
       "      <td>0.326615</td>\n",
       "      <td>0.306501</td>\n",
       "      <td>0.432452</td>\n",
       "      <td>0.209289</td>\n",
       "      <td>0.72</td>\n",
       "      <td>0.447059</td>\n",
       "    </tr>\n",
       "    <tr>\n",
       "      <th>5</th>\n",
       "      <td>0.0</td>\n",
       "      <td>0.0</td>\n",
       "      <td>0.0</td>\n",
       "      <td>0.0</td>\n",
       "      <td>0.0</td>\n",
       "      <td>1.0</td>\n",
       "      <td>0.200000</td>\n",
       "      <td>0.200000</td>\n",
       "      <td>0.490882</td>\n",
       "      <td>0.429063</td>\n",
       "      <td>0.20</td>\n",
       "      <td>0.235294</td>\n",
       "    </tr>\n",
       "  </tbody>\n",
       "</table>\n",
       "</div>"
      ],
      "text/plain": [
       "    Large B/P    Large ROE    Large S/P   \\\n",
       "0          1.0          0.0          0.0   \n",
       "1          0.0          1.0          0.0   \n",
       "2          0.0          0.0          1.0   \n",
       "3          0.0          0.0          0.0   \n",
       "4          0.0          0.0          0.0   \n",
       "5          0.0          0.0          0.0   \n",
       "\n",
       "    Large Return Rate in the last quarter    Large Market Value   \\\n",
       "0                                      0.0                   0.0   \n",
       "1                                      0.0                   0.0   \n",
       "2                                      0.0                   0.0   \n",
       "3                                      1.0                   0.0   \n",
       "4                                      0.0                   1.0   \n",
       "5                                      0.0                   0.0   \n",
       "\n",
       "    Small systematic Risk  Annual Return.1  Excess Return.1  \\\n",
       "0                     0.0         0.531875         0.478116   \n",
       "1                     0.0         0.549712         0.487595   \n",
       "2                     0.0         0.692625         0.629895   \n",
       "3                     0.0         0.324351         0.255634   \n",
       "4                     0.0         0.326615         0.306501   \n",
       "5                     1.0         0.200000         0.200000   \n",
       "\n",
       "   Systematic Risk.1  Total Risk.1  Abs. Win Rate.1  Rel. Win Rate.1  \n",
       "0           0.738015      0.800000             0.52         0.411765  \n",
       "1           0.571579      0.412231             0.52         0.764706  \n",
       "2           0.703051      0.756879             0.44         0.376471  \n",
       "3           0.800000      0.756046             0.36         0.270588  \n",
       "4           0.432452      0.209289             0.72         0.447059  \n",
       "5           0.490882      0.429063             0.20         0.235294  "
      ]
     },
     "execution_count": 18,
     "metadata": {},
     "output_type": "execute_result"
    }
   ],
   "source": [
    "df[~(z_scores < threshold).all(axis=1)]"
   ]
  },
  {
   "cell_type": "code",
   "execution_count": 19,
   "metadata": {},
   "outputs": [
    {
     "data": {
      "image/png": "[encoded data removed]",
      "text/plain": [
       "<Figure size 640x480 with 1 Axes>"
      ]
     },
     "metadata": {},
     "output_type": "display_data"
    }
   ],
   "source": [
    "plt.boxplot(df_clean)\n",
    "plt.show()"
   ]
  },
  {
   "cell_type": "code",
   "execution_count": 20,
   "metadata": {},
   "outputs": [],
   "source": [
    "df_clean = df"
   ]
  },
  {
   "cell_type": "code",
   "execution_count": 21,
   "metadata": {},
   "outputs": [],
   "source": [
    "weight_df = df_clean.iloc[:,:6].copy()\n",
    "outputs_df = df_clean.iloc[:,-6:].copy()"
   ]
  },
  {
   "attachments": {},
   "cell_type": "markdown",
   "metadata": {},
   "source": [
    "Corelation matrix"
   ]
  },
  {
   "cell_type": "code",
   "execution_count": 37,
   "metadata": {},
   "outputs": [
    {
     "data": {
      "text/html": [
       "<div>\n",
       "<style scoped>\n",
       "    .dataframe tbody tr th:only-of-type {\n",
       "        vertical-align: middle;\n",
       "    }\n",
       "\n",
       "    .dataframe tbody tr th {\n",
       "        vertical-align: top;\n",
       "    }\n",
       "\n",
       "    .dataframe thead th {\n",
       "        text-align: right;\n",
       "    }\n",
       "</style>\n",
       "<table border=\"1\" class=\"dataframe\">\n",
       "  <thead>\n",
       "    <tr style=\"text-align: right;\">\n",
       "      <th></th>\n",
       "      <th>Large B/P</th>\n",
       "      <th>Large ROE</th>\n",
       "      <th>Large S/P</th>\n",
       "      <th>Large Return Rate in the last quarter</th>\n",
       "      <th>Large Market Value</th>\n",
       "      <th>Small systematic Risk</th>\n",
       "      <th>Annual Return.1</th>\n",
       "      <th>Excess Return.1</th>\n",
       "      <th>Systematic Risk.1</th>\n",
       "      <th>Total Risk.1</th>\n",
       "      <th>Abs. Win Rate.1</th>\n",
       "      <th>Rel. Win Rate.1</th>\n",
       "    </tr>\n",
       "  </thead>\n",
       "  <tbody>\n",
       "    <tr>\n",
       "      <th>Large B/P</th>\n",
       "      <td>1.000000</td>\n",
       "      <td>-0.200000</td>\n",
       "      <td>-0.200000</td>\n",
       "      <td>-0.200000</td>\n",
       "      <td>-0.200000</td>\n",
       "      <td>-0.200000</td>\n",
       "      <td>0.204163</td>\n",
       "      <td>0.223066</td>\n",
       "      <td>0.044638</td>\n",
       "      <td>0.290721</td>\n",
       "      <td>0.330388</td>\n",
       "      <td>-0.096637</td>\n",
       "    </tr>\n",
       "    <tr>\n",
       "      <th>Large ROE</th>\n",
       "      <td>-0.200000</td>\n",
       "      <td>1.000000</td>\n",
       "      <td>-0.200000</td>\n",
       "      <td>-0.200000</td>\n",
       "      <td>-0.200000</td>\n",
       "      <td>-0.200000</td>\n",
       "      <td>0.395471</td>\n",
       "      <td>0.362831</td>\n",
       "      <td>-0.188823</td>\n",
       "      <td>-0.302810</td>\n",
       "      <td>0.260598</td>\n",
       "      <td>0.718742</td>\n",
       "    </tr>\n",
       "    <tr>\n",
       "      <th>Large S/P</th>\n",
       "      <td>-0.200000</td>\n",
       "      <td>-0.200000</td>\n",
       "      <td>1.000000</td>\n",
       "      <td>-0.200000</td>\n",
       "      <td>-0.200000</td>\n",
       "      <td>-0.200000</td>\n",
       "      <td>0.432089</td>\n",
       "      <td>0.348579</td>\n",
       "      <td>0.309397</td>\n",
       "      <td>0.429616</td>\n",
       "      <td>-0.052567</td>\n",
       "      <td>-0.016360</td>\n",
       "    </tr>\n",
       "    <tr>\n",
       "      <th>Large Return Rate in the last quarter</th>\n",
       "      <td>-0.200000</td>\n",
       "      <td>-0.200000</td>\n",
       "      <td>-0.200000</td>\n",
       "      <td>1.000000</td>\n",
       "      <td>-0.200000</td>\n",
       "      <td>-0.200000</td>\n",
       "      <td>-0.205198</td>\n",
       "      <td>-0.249988</td>\n",
       "      <td>0.301207</td>\n",
       "      <td>0.237721</td>\n",
       "      <td>-0.198890</td>\n",
       "      <td>-0.308811</td>\n",
       "    </tr>\n",
       "    <tr>\n",
       "      <th>Large Market Value</th>\n",
       "      <td>-0.200000</td>\n",
       "      <td>-0.200000</td>\n",
       "      <td>-0.200000</td>\n",
       "      <td>-0.200000</td>\n",
       "      <td>1.000000</td>\n",
       "      <td>-0.200000</td>\n",
       "      <td>-0.444855</td>\n",
       "      <td>-0.434440</td>\n",
       "      <td>-0.146320</td>\n",
       "      <td>-0.491467</td>\n",
       "      <td>0.123486</td>\n",
       "      <td>0.022453</td>\n",
       "    </tr>\n",
       "    <tr>\n",
       "      <th>Small systematic Risk</th>\n",
       "      <td>-0.200000</td>\n",
       "      <td>-0.200000</td>\n",
       "      <td>-0.200000</td>\n",
       "      <td>-0.200000</td>\n",
       "      <td>-0.200000</td>\n",
       "      <td>1.000000</td>\n",
       "      <td>-0.381609</td>\n",
       "      <td>-0.250001</td>\n",
       "      <td>-0.320038</td>\n",
       "      <td>-0.163721</td>\n",
       "      <td>-0.462812</td>\n",
       "      <td>-0.318949</td>\n",
       "    </tr>\n",
       "    <tr>\n",
       "      <th>Annual Return.1</th>\n",
       "      <td>0.204163</td>\n",
       "      <td>0.395471</td>\n",
       "      <td>0.432089</td>\n",
       "      <td>-0.205198</td>\n",
       "      <td>-0.444855</td>\n",
       "      <td>-0.381609</td>\n",
       "      <td>1.000000</td>\n",
       "      <td>0.975546</td>\n",
       "      <td>-0.214713</td>\n",
       "      <td>0.034485</td>\n",
       "      <td>0.604250</td>\n",
       "      <td>0.589791</td>\n",
       "    </tr>\n",
       "    <tr>\n",
       "      <th>Excess Return.1</th>\n",
       "      <td>0.223066</td>\n",
       "      <td>0.362831</td>\n",
       "      <td>0.348579</td>\n",
       "      <td>-0.249988</td>\n",
       "      <td>-0.434440</td>\n",
       "      <td>-0.250001</td>\n",
       "      <td>0.975546</td>\n",
       "      <td>1.000000</td>\n",
       "      <td>-0.404418</td>\n",
       "      <td>-0.104528</td>\n",
       "      <td>0.644373</td>\n",
       "      <td>0.589178</td>\n",
       "    </tr>\n",
       "    <tr>\n",
       "      <th>Systematic Risk.1</th>\n",
       "      <td>0.044638</td>\n",
       "      <td>-0.188823</td>\n",
       "      <td>0.309397</td>\n",
       "      <td>0.301207</td>\n",
       "      <td>-0.146320</td>\n",
       "      <td>-0.320038</td>\n",
       "      <td>-0.214713</td>\n",
       "      <td>-0.404418</td>\n",
       "      <td>1.000000</td>\n",
       "      <td>0.865696</td>\n",
       "      <td>-0.473683</td>\n",
       "      <td>-0.409389</td>\n",
       "    </tr>\n",
       "    <tr>\n",
       "      <th>Total Risk.1</th>\n",
       "      <td>0.290721</td>\n",
       "      <td>-0.302810</td>\n",
       "      <td>0.429616</td>\n",
       "      <td>0.237721</td>\n",
       "      <td>-0.491467</td>\n",
       "      <td>-0.163721</td>\n",
       "      <td>0.034485</td>\n",
       "      <td>-0.104528</td>\n",
       "      <td>0.865696</td>\n",
       "      <td>1.000000</td>\n",
       "      <td>-0.381860</td>\n",
       "      <td>-0.473022</td>\n",
       "    </tr>\n",
       "    <tr>\n",
       "      <th>Abs. Win Rate.1</th>\n",
       "      <td>0.330388</td>\n",
       "      <td>0.260598</td>\n",
       "      <td>-0.052567</td>\n",
       "      <td>-0.198890</td>\n",
       "      <td>0.123486</td>\n",
       "      <td>-0.462812</td>\n",
       "      <td>0.604250</td>\n",
       "      <td>0.644373</td>\n",
       "      <td>-0.473683</td>\n",
       "      <td>-0.381860</td>\n",
       "      <td>1.000000</td>\n",
       "      <td>0.561484</td>\n",
       "    </tr>\n",
       "    <tr>\n",
       "      <th>Rel. Win Rate.1</th>\n",
       "      <td>-0.096637</td>\n",
       "      <td>0.718742</td>\n",
       "      <td>-0.016360</td>\n",
       "      <td>-0.308811</td>\n",
       "      <td>0.022453</td>\n",
       "      <td>-0.318949</td>\n",
       "      <td>0.589791</td>\n",
       "      <td>0.589178</td>\n",
       "      <td>-0.409389</td>\n",
       "      <td>-0.473022</td>\n",
       "      <td>0.561484</td>\n",
       "      <td>1.000000</td>\n",
       "    </tr>\n",
       "  </tbody>\n",
       "</table>\n",
       "</div>"
      ],
      "text/plain": [
       "                                          Large B/P    Large ROE   \\\n",
       " Large B/P                                  1.000000    -0.200000   \n",
       " Large ROE                                 -0.200000     1.000000   \n",
       " Large S/P                                 -0.200000    -0.200000   \n",
       " Large Return Rate in the last quarter     -0.200000    -0.200000   \n",
       " Large Market Value                        -0.200000    -0.200000   \n",
       " Small systematic Risk                     -0.200000    -0.200000   \n",
       "Annual Return.1                             0.204163     0.395471   \n",
       "Excess Return.1                             0.223066     0.362831   \n",
       "Systematic Risk.1                           0.044638    -0.188823   \n",
       "Total Risk.1                                0.290721    -0.302810   \n",
       "Abs. Win Rate.1                             0.330388     0.260598   \n",
       "Rel. Win Rate.1                            -0.096637     0.718742   \n",
       "\n",
       "                                          Large S/P   \\\n",
       " Large B/P                                 -0.200000   \n",
       " Large ROE                                 -0.200000   \n",
       " Large S/P                                  1.000000   \n",
       " Large Return Rate in the last quarter     -0.200000   \n",
       " Large Market Value                        -0.200000   \n",
       " Small systematic Risk                     -0.200000   \n",
       "Annual Return.1                             0.432089   \n",
       "Excess Return.1                             0.348579   \n",
       "Systematic Risk.1                           0.309397   \n",
       "Total Risk.1                                0.429616   \n",
       "Abs. Win Rate.1                            -0.052567   \n",
       "Rel. Win Rate.1                            -0.016360   \n",
       "\n",
       "                                          Large Return Rate in the last quarter   \\\n",
       " Large B/P                                                             -0.200000   \n",
       " Large ROE                                                             -0.200000   \n",
       " Large S/P                                                             -0.200000   \n",
       " Large Return Rate in the last quarter                                  1.000000   \n",
       " Large Market Value                                                    -0.200000   \n",
       " Small systematic Risk                                                 -0.200000   \n",
       "Annual Return.1                                                        -0.205198   \n",
       "Excess Return.1                                                        -0.249988   \n",
       "Systematic Risk.1                                                       0.301207   \n",
       "Total Risk.1                                                            0.237721   \n",
       "Abs. Win Rate.1                                                        -0.198890   \n",
       "Rel. Win Rate.1                                                        -0.308811   \n",
       "\n",
       "                                          Large Market Value   \\\n",
       " Large B/P                                          -0.200000   \n",
       " Large ROE                                          -0.200000   \n",
       " Large S/P                                          -0.200000   \n",
       " Large Return Rate in the last quarter              -0.200000   \n",
       " Large Market Value                                  1.000000   \n",
       " Small systematic Risk                              -0.200000   \n",
       "Annual Return.1                                     -0.444855   \n",
       "Excess Return.1                                     -0.434440   \n",
       "Systematic Risk.1                                   -0.146320   \n",
       "Total Risk.1                                        -0.491467   \n",
       "Abs. Win Rate.1                                      0.123486   \n",
       "Rel. Win Rate.1                                      0.022453   \n",
       "\n",
       "                                          Small systematic Risk  \\\n",
       " Large B/P                                            -0.200000   \n",
       " Large ROE                                            -0.200000   \n",
       " Large S/P                                            -0.200000   \n",
       " Large Return Rate in the last quarter                -0.200000   \n",
       " Large Market Value                                   -0.200000   \n",
       " Small systematic Risk                                 1.000000   \n",
       "Annual Return.1                                       -0.381609   \n",
       "Excess Return.1                                       -0.250001   \n",
       "Systematic Risk.1                                     -0.320038   \n",
       "Total Risk.1                                          -0.163721   \n",
       "Abs. Win Rate.1                                       -0.462812   \n",
       "Rel. Win Rate.1                                       -0.318949   \n",
       "\n",
       "                                         Annual Return.1  Excess Return.1  \\\n",
       " Large B/P                                      0.204163         0.223066   \n",
       " Large ROE                                      0.395471         0.362831   \n",
       " Large S/P                                      0.432089         0.348579   \n",
       " Large Return Rate in the last quarter         -0.205198        -0.249988   \n",
       " Large Market Value                            -0.444855        -0.434440   \n",
       " Small systematic Risk                         -0.381609        -0.250001   \n",
       "Annual Return.1                                 1.000000         0.975546   \n",
       "Excess Return.1                                 0.975546         1.000000   \n",
       "Systematic Risk.1                              -0.214713        -0.404418   \n",
       "Total Risk.1                                    0.034485        -0.104528   \n",
       "Abs. Win Rate.1                                 0.604250         0.644373   \n",
       "Rel. Win Rate.1                                 0.589791         0.589178   \n",
       "\n",
       "                                         Systematic Risk.1  Total Risk.1  \\\n",
       " Large B/P                                        0.044638      0.290721   \n",
       " Large ROE                                       -0.188823     -0.302810   \n",
       " Large S/P                                        0.309397      0.429616   \n",
       " Large Return Rate in the last quarter            0.301207      0.237721   \n",
       " Large Market Value                              -0.146320     -0.491467   \n",
       " Small systematic Risk                           -0.320038     -0.163721   \n",
       "Annual Return.1                                  -0.214713      0.034485   \n",
       "Excess Return.1                                  -0.404418     -0.104528   \n",
       "Systematic Risk.1                                 1.000000      0.865696   \n",
       "Total Risk.1                                      0.865696      1.000000   \n",
       "Abs. Win Rate.1                                  -0.473683     -0.381860   \n",
       "Rel. Win Rate.1                                  -0.409389     -0.473022   \n",
       "\n",
       "                                         Abs. Win Rate.1  Rel. Win Rate.1  \n",
       " Large B/P                                      0.330388        -0.096637  \n",
       " Large ROE                                      0.260598         0.718742  \n",
       " Large S/P                                     -0.052567        -0.016360  \n",
       " Large Return Rate in the last quarter         -0.198890        -0.308811  \n",
       " Large Market Value                             0.123486         0.022453  \n",
       " Small systematic Risk                         -0.462812        -0.318949  \n",
       "Annual Return.1                                 0.604250         0.589791  \n",
       "Excess Return.1                                 0.644373         0.589178  \n",
       "Systematic Risk.1                              -0.473683        -0.409389  \n",
       "Total Risk.1                                   -0.381860        -0.473022  \n",
       "Abs. Win Rate.1                                 1.000000         0.561484  \n",
       "Rel. Win Rate.1                                 0.561484         1.000000  "
      ]
     },
     "execution_count": 37,
     "metadata": {},
     "output_type": "execute_result"
    }
   ],
   "source": [
    "corr_matrix = df_clean.corr()\n",
    "corr_matrix"
   ]
  },
  {
   "attachments": {},
   "cell_type": "markdown",
   "metadata": {},
   "source": [
    "using seaborn"
   ]
  },
  {
   "cell_type": "code",
   "execution_count": 38,
   "metadata": {},
   "outputs": [
    {
     "data": {
      "text/plain": [
       "<Axes: >"
      ]
     },
     "execution_count": 38,
     "metadata": {},
     "output_type": "execute_result"
    },
    {
     "data": {
      "image/png": "[encoded data removed]",
      "text/plain": [
       "<Figure size 640x480 with 2 Axes>"
      ]
     },
     "metadata": {},
     "output_type": "display_data"
    }
   ],
   "source": [
    "sns.heatmap(corr_matrix, annot=True)"
   ]
  },
  {
   "attachments": {},
   "cell_type": "markdown",
   "metadata": {},
   "source": [
    "Bartlett's sphericity test"
   ]
  },
  {
   "cell_type": "code",
   "execution_count": 39,
   "metadata": {},
   "outputs": [
    {
     "name": "stdout",
     "output_type": "stream",
     "text": [
      "Bartlett Sphericity Test:\n",
      "Chi-square value: 749.0536602587168\n",
      "P-value: 6.429146777304694e-150\n"
     ]
    }
   ],
   "source": [
    "# Perform Bartlett's sphericity test\n",
    "chi_square_value, p_value = calculate_bartlett_sphericity(weight_df)\n",
    "\n",
    "# Print the test results\n",
    "print('Bartlett Sphericity Test:')\n",
    "print(\"Chi-square value:\", chi_square_value)\n",
    "print(\"P-value:\", p_value)\n"
   ]
  },
  {
   "attachments": {},
   "cell_type": "markdown",
   "metadata": {},
   "source": [
    "PCA"
   ]
  },
  {
   "cell_type": "code",
   "execution_count": 25,
   "metadata": {},
   "outputs": [
    {
     "data": {
      "text/html": [
       "<div>\n",
       "<style scoped>\n",
       "    .dataframe tbody tr th:only-of-type {\n",
       "        vertical-align: middle;\n",
       "    }\n",
       "\n",
       "    .dataframe tbody tr th {\n",
       "        vertical-align: top;\n",
       "    }\n",
       "\n",
       "    .dataframe thead th {\n",
       "        text-align: right;\n",
       "    }\n",
       "</style>\n",
       "<table border=\"1\" class=\"dataframe\">\n",
       "  <thead>\n",
       "    <tr style=\"text-align: right;\">\n",
       "      <th></th>\n",
       "      <th>Large B/P</th>\n",
       "      <th>Large ROE</th>\n",
       "      <th>Large S/P</th>\n",
       "      <th>Large Return Rate in the last quarter</th>\n",
       "      <th>Large Market Value</th>\n",
       "      <th>Small systematic Risk</th>\n",
       "    </tr>\n",
       "  </thead>\n",
       "  <tbody>\n",
       "    <tr>\n",
       "      <th>0</th>\n",
       "      <td>1.0</td>\n",
       "      <td>0.0</td>\n",
       "      <td>0.0</td>\n",
       "      <td>0.0</td>\n",
       "      <td>0.0</td>\n",
       "      <td>0.0</td>\n",
       "    </tr>\n",
       "    <tr>\n",
       "      <th>1</th>\n",
       "      <td>0.0</td>\n",
       "      <td>1.0</td>\n",
       "      <td>0.0</td>\n",
       "      <td>0.0</td>\n",
       "      <td>0.0</td>\n",
       "      <td>0.0</td>\n",
       "    </tr>\n",
       "    <tr>\n",
       "      <th>2</th>\n",
       "      <td>0.0</td>\n",
       "      <td>0.0</td>\n",
       "      <td>1.0</td>\n",
       "      <td>0.0</td>\n",
       "      <td>0.0</td>\n",
       "      <td>0.0</td>\n",
       "    </tr>\n",
       "    <tr>\n",
       "      <th>3</th>\n",
       "      <td>0.0</td>\n",
       "      <td>0.0</td>\n",
       "      <td>0.0</td>\n",
       "      <td>1.0</td>\n",
       "      <td>0.0</td>\n",
       "      <td>0.0</td>\n",
       "    </tr>\n",
       "    <tr>\n",
       "      <th>4</th>\n",
       "      <td>0.0</td>\n",
       "      <td>0.0</td>\n",
       "      <td>0.0</td>\n",
       "      <td>0.0</td>\n",
       "      <td>1.0</td>\n",
       "      <td>0.0</td>\n",
       "    </tr>\n",
       "  </tbody>\n",
       "</table>\n",
       "</div>"
      ],
      "text/plain": [
       "    Large B/P    Large ROE    Large S/P   \\\n",
       "0          1.0          0.0          0.0   \n",
       "1          0.0          1.0          0.0   \n",
       "2          0.0          0.0          1.0   \n",
       "3          0.0          0.0          0.0   \n",
       "4          0.0          0.0          0.0   \n",
       "\n",
       "    Large Return Rate in the last quarter    Large Market Value   \\\n",
       "0                                      0.0                   0.0   \n",
       "1                                      0.0                   0.0   \n",
       "2                                      0.0                   0.0   \n",
       "3                                      1.0                   0.0   \n",
       "4                                      0.0                   1.0   \n",
       "\n",
       "    Small systematic Risk  \n",
       "0                     0.0  \n",
       "1                     0.0  \n",
       "2                     0.0  \n",
       "3                     0.0  \n",
       "4                     0.0  "
      ]
     },
     "execution_count": 25,
     "metadata": {},
     "output_type": "execute_result"
    }
   ],
   "source": [
    "weight_df.head()"
   ]
  },
  {
   "cell_type": "code",
   "execution_count": 26,
   "metadata": {},
   "outputs": [
    {
     "name": "stdout",
     "output_type": "stream",
     "text": [
      "[4.76666774e-02 5.06912442e-08 4.76666774e-02 4.76666774e-02\n",
      " 4.76666774e-02 4.76666774e-02]\n"
     ]
    }
   ],
   "source": [
    "cov_mat = np.cov(weight_df.values, rowvar=False)\n",
    "\n",
    "# Step 3: Compute the eigenvectors and eigenvalues\n",
    "eig_vals, eig_vecs = np.linalg.eig(cov_mat)\n",
    "print(eig_vals)"
   ]
  },
  {
   "cell_type": "code",
   "execution_count": 27,
   "metadata": {},
   "outputs": [
    {
     "data": {
      "image/png": "[encoded data removed]",
      "text/plain": [
       "<Figure size 640x480 with 1 Axes>"
      ]
     },
     "metadata": {},
     "output_type": "display_data"
    }
   ],
   "source": [
    "\n",
    "# Step 4: Plot the eigenvalues in a scree plot\n",
    "plt.plot(np.arange(0,6), eig_vals, marker='o')\n",
    "plt.xlabel('Principal Component')\n",
    "plt.ylabel('Eigenvalue')\n",
    "plt.title('Scree Plot')\n",
    "plt.show()\n"
   ]
  },
  {
   "cell_type": "code",
   "execution_count": 28,
   "metadata": {},
   "outputs": [],
   "source": [
    "n_components = 5 # replace with your choice\n",
    "\n",
    "pca = PCA(n_components=n_components)\n",
    "data_pca = pca.fit_transform(df)"
   ]
  },
  {
   "attachments": {},
   "cell_type": "markdown",
   "metadata": {},
   "source": [
    "Test of assumptions"
   ]
  },
  {
   "attachments": {},
   "cell_type": "markdown",
   "metadata": {},
   "source": [
    "1.Homoscedasticity"
   ]
  },
  {
   "cell_type": "code",
   "execution_count": null,
   "metadata": {},
   "outputs": [],
   "source": []
  },
  {
   "attachments": {},
   "cell_type": "markdown",
   "metadata": {},
   "source": [
    "2.Normality"
   ]
  },
  {
   "cell_type": "code",
   "execution_count": 29,
   "metadata": {},
   "outputs": [
    {
     "name": "stdout",
     "output_type": "stream",
     "text": [
      "Normality test result for column 0: NormaltestResult(statistic=5.440474130742268, pvalue=0.06585913965423051)\n",
      "Normality test result for column 1: NormaltestResult(statistic=3.9621621564177127, pvalue=0.13792005432089197)\n",
      "Normality test result for column 2: NormaltestResult(statistic=4.594087849871954, pvalue=0.1005556548725624)\n",
      "Normality test result for column 3: NormaltestResult(statistic=4.035613514120197, pvalue=0.13294673003299248)\n",
      "Normality test result for column 4: NormaltestResult(statistic=2.467713533691952, pvalue=0.29116744444088705)\n"
     ]
    }
   ],
   "source": [
    "from scipy.stats import normaltest\n",
    "for i in range(5):\n",
    "    print(f'Normality test result for column {i}:',normaltest(data_pca[:, i]))"
   ]
  },
  {
   "attachments": {},
   "cell_type": "markdown",
   "metadata": {},
   "source": [
    "3.Multi Colinearity"
   ]
  },
  {
   "attachments": {},
   "cell_type": "markdown",
   "metadata": {},
   "source": [
    "**VIF**"
   ]
  },
  {
   "cell_type": "code",
   "execution_count": 30,
   "metadata": {},
   "outputs": [
    {
     "name": "stdout",
     "output_type": "stream",
     "text": [
      "VIF of column 0: 1.00\n",
      "VIF of column 1: 1.00\n",
      "VIF of column 2: 1.00\n",
      "VIF of column 3: 1.00\n",
      "VIF of column 4: 1.00\n"
     ]
    }
   ],
   "source": [
    "for i in range(5):\n",
    "    print(f'VIF of column {i}: {variance_inflation_factor(data_pca,i):.2f}')"
   ]
  },
  {
   "attachments": {},
   "cell_type": "markdown",
   "metadata": {},
   "source": [
    "4.Auto Corelation"
   ]
  },
  {
   "attachments": {},
   "cell_type": "markdown",
   "metadata": {},
   "source": [
    "**DW test**"
   ]
  },
  {
   "cell_type": "code",
   "execution_count": 31,
   "metadata": {},
   "outputs": [
    {
     "name": "stdout",
     "output_type": "stream",
     "text": [
      "DW statistic for each column: [1.92880016 1.8952121  1.47743874 2.15861333 2.50857133]\n"
     ]
    }
   ],
   "source": [
    "dw_test = durbin_watson(data_pca, axis=0)\n",
    "\n",
    "print('DW statistic for each column:', dw_test)"
   ]
  },
  {
   "attachments": {},
   "cell_type": "markdown",
   "metadata": {},
   "source": [
    "Remedy"
   ]
  },
  {
   "cell_type": "code",
   "execution_count": 32,
   "metadata": {},
   "outputs": [
    {
     "name": "stdout",
     "output_type": "stream",
     "text": [
      "DW statistic for each column: [1.92880016 1.8952121  2.15861333]\n"
     ]
    }
   ],
   "source": [
    "arr = np.delete(data_pca, [2,4], axis=1)\n",
    "# print(arr)\n",
    "dw_test = durbin_watson(arr, axis=0)\n",
    "print('DW statistic for each column:', dw_test)"
   ]
  },
  {
   "attachments": {},
   "cell_type": "markdown",
   "metadata": {},
   "source": [
    "**MODEL**"
   ]
  },
  {
   "cell_type": "code",
   "execution_count": 41,
   "metadata": {},
   "outputs": [
    {
     "name": "stdout",
     "output_type": "stream",
     "text": [
      "R^2 score: 0.4930863143245347\n"
     ]
    }
   ],
   "source": [
    "X_train, X_test, y_train, y_test = train_test_split(arr,outputs_df, test_size=0.2, random_state=42)\n",
    "\n",
    "model = LinearRegression()\n",
    "model.fit(X_train, y_train)\n",
    "\n",
    "y_predict = model.predict(X_test)\n",
    "score = model.score(X_test, y_test)\n",
    "print('R^2 score:', score)"
   ]
  }
 ],
 "metadata": {
  "kernelspec": {
   "display_name": "Python 3",
   "language": "python",
   "name": "python3"
  },
  "language_info": {
   "codemirror_mode": {
    "name": "ipython",
    "version": 3
   },
   "file_extension": ".py",
   "mimetype": "text/x-python",
   "name": "python",
   "nbconvert_exporter": "python",
   "pygments_lexer": "ipython3",
   "version": "3.11.2"
  },
  "orig_nbformat": 4
 },
 "nbformat": 4,
 "nbformat_minor": 2
}
